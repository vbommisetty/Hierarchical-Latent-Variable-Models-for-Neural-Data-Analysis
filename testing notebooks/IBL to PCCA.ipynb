{
  "nbformat": 4,
  "nbformat_minor": 0,
  "metadata": {
    "colab": {
      "provenance": []
    },
    "kernelspec": {
      "name": "python3",
      "display_name": "Python 3"
    },
    "language_info": {
      "name": "python"
    }
  },
  "cells": [
    {
      "cell_type": "markdown",
      "source": [
        "# installs"
      ],
      "metadata": {
        "id": "az1CCfkSOUki"
      }
    },
    {
      "cell_type": "code",
      "source": [
        "# necessary for brainbox\n",
        "! pip install ONE-api ibllib"
      ],
      "metadata": {
        "colab": {
          "base_uri": "https://localhost:8080/"
        },
        "id": "zqITIVaJOU15",
        "outputId": "37450e3f-40be-4da0-89d2-c215b5cf2b1f"
      },
      "execution_count": null,
      "outputs": [
        {
          "output_type": "stream",
          "name": "stdout",
          "text": [
            "Collecting ONE-api\n",
            "  Downloading one_api-3.0.0-py3-none-any.whl.metadata (4.1 kB)\n",
            "Collecting ibllib\n",
            "  Downloading ibllib-3.2.0-py3-none-any.whl.metadata (3.0 kB)\n",
            "Collecting ruff (from ONE-api)\n",
            "  Downloading ruff-0.9.9-py3-none-manylinux_2_17_x86_64.manylinux2014_x86_64.whl.metadata (25 kB)\n",
            "Requirement already satisfied: numpy>=1.18 in /usr/local/lib/python3.11/dist-packages (from ONE-api) (1.26.4)\n",
            "Requirement already satisfied: pandas>=1.5.0 in /usr/local/lib/python3.11/dist-packages (from ONE-api) (2.2.2)\n",
            "Requirement already satisfied: tqdm>=4.32.1 in /usr/local/lib/python3.11/dist-packages (from ONE-api) (4.67.1)\n",
            "Requirement already satisfied: requests>=2.22.0 in /usr/local/lib/python3.11/dist-packages (from ONE-api) (2.32.3)\n",
            "Collecting iblutil>=1.14.0 (from ONE-api)\n",
            "  Downloading iblutil-1.14.0-py3-none-any.whl.metadata (785 bytes)\n",
            "Requirement already satisfied: packaging in /usr/local/lib/python3.11/dist-packages (from ONE-api) (24.2)\n",
            "Collecting boto3 (from ONE-api)\n",
            "  Downloading boto3-1.37.8-py3-none-any.whl.metadata (6.6 kB)\n",
            "Requirement already satisfied: pyyaml in /usr/local/lib/python3.11/dist-packages (from ONE-api) (6.0.2)\n",
            "Requirement already satisfied: click>=7.0.0 in /usr/local/lib/python3.11/dist-packages (from ibllib) (8.1.8)\n",
            "Collecting colorlog>=4.0.2 (from ibllib)\n",
            "  Downloading colorlog-6.9.0-py3-none-any.whl.metadata (10 kB)\n",
            "Collecting flake8>=3.7.8 (from ibllib)\n",
            "  Downloading flake8-7.1.2-py2.py3-none-any.whl.metadata (3.8 kB)\n",
            "Collecting globus-sdk (from ibllib)\n",
            "  Downloading globus_sdk-3.51.0-py3-none-any.whl.metadata (3.3 kB)\n",
            "Requirement already satisfied: graphviz in /usr/local/lib/python3.11/dist-packages (from ibllib) (0.20.3)\n",
            "Requirement already satisfied: matplotlib>=3.0.3 in /usr/local/lib/python3.11/dist-packages (from ibllib) (3.10.0)\n",
            "Requirement already satisfied: numba>=0.56 in /usr/local/lib/python3.11/dist-packages (from ibllib) (0.60.0)\n",
            "Collecting nptdms (from ibllib)\n",
            "  Downloading nptdms-1.10.0.tar.gz (181 kB)\n",
            "\u001b[2K     \u001b[90m━━━━━━━━━━━━━━━━━━━━━━━━━━━━━━━━━━━━━━━━\u001b[0m \u001b[32m181.5/181.5 kB\u001b[0m \u001b[31m5.0 MB/s\u001b[0m eta \u001b[36m0:00:00\u001b[0m\n",
            "\u001b[?25h  Installing build dependencies ... \u001b[?25l\u001b[?25hdone\n",
            "  Getting requirements to build wheel ... \u001b[?25l\u001b[?25hdone\n",
            "  Preparing metadata (pyproject.toml) ... \u001b[?25l\u001b[?25hdone\n",
            "Requirement already satisfied: opencv-python-headless in /usr/local/lib/python3.11/dist-packages (from ibllib) (4.11.0.86)\n",
            "Requirement already satisfied: pyarrow in /usr/local/lib/python3.11/dist-packages (from ibllib) (18.1.0)\n",
            "Collecting pynrrd>=0.4.0 (from ibllib)\n",
            "  Downloading pynrrd-1.1.3-py3-none-any.whl.metadata (5.4 kB)\n",
            "Requirement already satisfied: pytest in /usr/local/lib/python3.11/dist-packages (from ibllib) (8.3.5)\n",
            "Requirement already satisfied: scikit-learn>=0.22.1 in /usr/local/lib/python3.11/dist-packages (from ibllib) (1.6.1)\n",
            "Requirement already satisfied: scipy>=1.7.0 in /usr/local/lib/python3.11/dist-packages (from ibllib) (1.13.1)\n",
            "Requirement already satisfied: scikit-image in /usr/local/lib/python3.11/dist-packages (from ibllib) (0.25.2)\n",
            "Collecting imagecodecs (from ibllib)\n",
            "  Downloading imagecodecs-2024.12.30-cp311-cp311-manylinux_2_17_x86_64.manylinux2014_x86_64.whl.metadata (19 kB)\n",
            "Collecting sparse (from ibllib)\n",
            "  Downloading sparse-0.15.5-py2.py3-none-any.whl.metadata (4.4 kB)\n",
            "Requirement already satisfied: seaborn>=0.9.0 in /usr/local/lib/python3.11/dist-packages (from ibllib) (0.13.2)\n",
            "Collecting iblatlas>=0.5.3 (from ibllib)\n",
            "  Downloading iblatlas-0.5.6-py3-none-any.whl.metadata (3.1 kB)\n",
            "Collecting ibl-neuropixel>=1.5.0 (from ibllib)\n",
            "  Downloading ibl_neuropixel-1.6.2-py3-none-any.whl.metadata (2.3 kB)\n",
            "Collecting iblqt>=0.3.2 (from ibllib)\n",
            "  Downloading iblqt-0.4.2-py3-none-any.whl.metadata (1.3 kB)\n",
            "Collecting mtscomp>=1.0.1 (from ibllib)\n",
            "  Downloading mtscomp-1.0.2-py2.py3-none-any.whl.metadata (7.2 kB)\n",
            "Collecting phylib>=2.6.0 (from ibllib)\n",
            "  Downloading phylib-2.6.0-py2.py3-none-any.whl.metadata (1.3 kB)\n",
            "Collecting psychofit (from ibllib)\n",
            "  Downloading Psychofit-1.0.0.post0-py3-none-any.whl.metadata (2.0 kB)\n",
            "Collecting slidingRP>=1.1.1 (from ibllib)\n",
            "  Downloading slidingRP-1.1.1-py3-none-any.whl.metadata (1.8 kB)\n",
            "Collecting pyqt5 (from ibllib)\n",
            "  Downloading PyQt5-5.15.11-cp38-abi3-manylinux_2_17_x86_64.whl.metadata (2.1 kB)\n",
            "Collecting ibl-style (from ibllib)\n",
            "  Downloading ibl_style-0.1.0-py3-none-any.whl.metadata (10 kB)\n",
            "Collecting mccabe<0.8.0,>=0.7.0 (from flake8>=3.7.8->ibllib)\n",
            "  Downloading mccabe-0.7.0-py2.py3-none-any.whl.metadata (5.0 kB)\n",
            "Collecting pycodestyle<2.13.0,>=2.12.0 (from flake8>=3.7.8->ibllib)\n",
            "  Downloading pycodestyle-2.12.1-py2.py3-none-any.whl.metadata (4.5 kB)\n",
            "Collecting pyflakes<3.3.0,>=3.2.0 (from flake8>=3.7.8->ibllib)\n",
            "  Downloading pyflakes-3.2.0-py2.py3-none-any.whl.metadata (3.5 kB)\n",
            "Requirement already satisfied: joblib in /usr/local/lib/python3.11/dist-packages (from ibl-neuropixel>=1.5.0->ibllib) (1.4.2)\n",
            "Collecting qtpy>=2.4.1 (from iblqt>=0.3.2->ibllib)\n",
            "  Downloading QtPy-2.4.3-py3-none-any.whl.metadata (12 kB)\n",
            "Collecting pyqtgraph>=0.13.7 (from iblqt>=0.3.2->ibllib)\n",
            "  Downloading pyqtgraph-0.13.7-py3-none-any.whl.metadata (1.3 kB)\n",
            "Requirement already satisfied: contourpy>=1.0.1 in /usr/local/lib/python3.11/dist-packages (from matplotlib>=3.0.3->ibllib) (1.3.1)\n",
            "Requirement already satisfied: cycler>=0.10 in /usr/local/lib/python3.11/dist-packages (from matplotlib>=3.0.3->ibllib) (0.12.1)\n",
            "Requirement already satisfied: fonttools>=4.22.0 in /usr/local/lib/python3.11/dist-packages (from matplotlib>=3.0.3->ibllib) (4.56.0)\n",
            "Requirement already satisfied: kiwisolver>=1.3.1 in /usr/local/lib/python3.11/dist-packages (from matplotlib>=3.0.3->ibllib) (1.4.8)\n",
            "Requirement already satisfied: pillow>=8 in /usr/local/lib/python3.11/dist-packages (from matplotlib>=3.0.3->ibllib) (11.1.0)\n",
            "Requirement already satisfied: pyparsing>=2.3.1 in /usr/local/lib/python3.11/dist-packages (from matplotlib>=3.0.3->ibllib) (3.2.1)\n",
            "Requirement already satisfied: python-dateutil>=2.7 in /usr/local/lib/python3.11/dist-packages (from matplotlib>=3.0.3->ibllib) (2.8.2)\n",
            "Requirement already satisfied: llvmlite<0.44,>=0.43.0dev0 in /usr/local/lib/python3.11/dist-packages (from numba>=0.56->ibllib) (0.43.0)\n",
            "Requirement already satisfied: pytz>=2020.1 in /usr/local/lib/python3.11/dist-packages (from pandas>=1.5.0->ONE-api) (2025.1)\n",
            "Requirement already satisfied: tzdata>=2022.7 in /usr/local/lib/python3.11/dist-packages (from pandas>=1.5.0->ONE-api) (2025.1)\n",
            "Requirement already satisfied: dask in /usr/local/lib/python3.11/dist-packages (from phylib>=2.6.0->ibllib) (2024.12.1)\n",
            "Requirement already satisfied: toolz in /usr/local/lib/python3.11/dist-packages (from phylib>=2.6.0->ibllib) (0.12.1)\n",
            "Requirement already satisfied: typing_extensions in /usr/local/lib/python3.11/dist-packages (from pynrrd>=0.4.0->ibllib) (4.12.2)\n",
            "Requirement already satisfied: charset-normalizer<4,>=2 in /usr/local/lib/python3.11/dist-packages (from requests>=2.22.0->ONE-api) (3.4.1)\n",
            "Requirement already satisfied: idna<4,>=2.5 in /usr/local/lib/python3.11/dist-packages (from requests>=2.22.0->ONE-api) (3.10)\n",
            "Requirement already satisfied: urllib3<3,>=1.21.1 in /usr/local/lib/python3.11/dist-packages (from requests>=2.22.0->ONE-api) (2.3.0)\n",
            "Requirement already satisfied: certifi>=2017.4.17 in /usr/local/lib/python3.11/dist-packages (from requests>=2.22.0->ONE-api) (2025.1.31)\n",
            "Requirement already satisfied: threadpoolctl>=3.1.0 in /usr/local/lib/python3.11/dist-packages (from scikit-learn>=0.22.1->ibllib) (3.5.0)\n",
            "Requirement already satisfied: colorcet in /usr/local/lib/python3.11/dist-packages (from slidingRP>=1.1.1->ibllib) (3.1.0)\n",
            "Requirement already satisfied: statsmodels in /usr/local/lib/python3.11/dist-packages (from slidingRP>=1.1.1->ibllib) (0.14.4)\n",
            "Collecting botocore<1.38.0,>=1.37.8 (from boto3->ONE-api)\n",
            "  Downloading botocore-1.37.8-py3-none-any.whl.metadata (5.7 kB)\n",
            "Collecting jmespath<2.0.0,>=0.7.1 (from boto3->ONE-api)\n",
            "  Downloading jmespath-1.0.1-py3-none-any.whl.metadata (7.6 kB)\n",
            "Collecting s3transfer<0.12.0,>=0.11.0 (from boto3->ONE-api)\n",
            "  Downloading s3transfer-0.11.4-py3-none-any.whl.metadata (1.7 kB)\n",
            "Requirement already satisfied: pyjwt<3.0.0,>=2.0.0 in /usr/local/lib/python3.11/dist-packages (from pyjwt[crypto]<3.0.0,>=2.0.0->globus-sdk->ibllib) (2.10.1)\n",
            "Requirement already satisfied: cryptography!=3.4.0,>=3.3.1 in /usr/local/lib/python3.11/dist-packages (from globus-sdk->ibllib) (43.0.3)\n",
            "Collecting figrid (from ibl-style->ibllib)\n",
            "  Downloading figrid-0.1.7-py3-none-any.whl.metadata (6.4 kB)\n",
            "Collecting PyQt5-sip<13,>=12.15 (from pyqt5->ibllib)\n",
            "  Downloading PyQt5_sip-12.17.0-cp311-cp311-manylinux_2_5_x86_64.manylinux1_x86_64.whl.metadata (472 bytes)\n",
            "Collecting PyQt5-Qt5<5.16.0,>=5.15.2 (from pyqt5->ibllib)\n",
            "  Downloading PyQt5_Qt5-5.15.16-1-py3-none-manylinux2014_x86_64.whl.metadata (536 bytes)\n",
            "Requirement already satisfied: iniconfig in /usr/local/lib/python3.11/dist-packages (from pytest->ibllib) (2.0.0)\n",
            "Requirement already satisfied: pluggy<2,>=1.5 in /usr/local/lib/python3.11/dist-packages (from pytest->ibllib) (1.5.0)\n",
            "Requirement already satisfied: networkx>=3.0 in /usr/local/lib/python3.11/dist-packages (from scikit-image->ibllib) (3.4.2)\n",
            "Requirement already satisfied: imageio!=2.35.0,>=2.33 in /usr/local/lib/python3.11/dist-packages (from scikit-image->ibllib) (2.37.0)\n",
            "Requirement already satisfied: tifffile>=2022.8.12 in /usr/local/lib/python3.11/dist-packages (from scikit-image->ibllib) (2025.2.18)\n",
            "Requirement already satisfied: lazy-loader>=0.4 in /usr/local/lib/python3.11/dist-packages (from scikit-image->ibllib) (0.4)\n",
            "Requirement already satisfied: cffi>=1.12 in /usr/local/lib/python3.11/dist-packages (from cryptography!=3.4.0,>=3.3.1->globus-sdk->ibllib) (1.17.1)\n",
            "Requirement already satisfied: six>=1.5 in /usr/local/lib/python3.11/dist-packages (from python-dateutil>=2.7->matplotlib>=3.0.3->ibllib) (1.17.0)\n",
            "Requirement already satisfied: cloudpickle>=3.0.0 in /usr/local/lib/python3.11/dist-packages (from dask->phylib>=2.6.0->ibllib) (3.1.1)\n",
            "Requirement already satisfied: fsspec>=2021.09.0 in /usr/local/lib/python3.11/dist-packages (from dask->phylib>=2.6.0->ibllib) (2024.10.0)\n",
            "Requirement already satisfied: partd>=1.4.0 in /usr/local/lib/python3.11/dist-packages (from dask->phylib>=2.6.0->ibllib) (1.4.2)\n",
            "Requirement already satisfied: importlib_metadata>=4.13.0 in /usr/local/lib/python3.11/dist-packages (from dask->phylib>=2.6.0->ibllib) (8.6.1)\n",
            "Requirement already satisfied: patsy>=0.5.6 in /usr/local/lib/python3.11/dist-packages (from statsmodels->slidingRP>=1.1.1->ibllib) (1.0.1)\n",
            "Requirement already satisfied: pycparser in /usr/local/lib/python3.11/dist-packages (from cffi>=1.12->cryptography!=3.4.0,>=3.3.1->globus-sdk->ibllib) (2.22)\n",
            "Requirement already satisfied: zipp>=3.20 in /usr/local/lib/python3.11/dist-packages (from importlib_metadata>=4.13.0->dask->phylib>=2.6.0->ibllib) (3.21.0)\n",
            "Requirement already satisfied: locket in /usr/local/lib/python3.11/dist-packages (from partd>=1.4.0->dask->phylib>=2.6.0->ibllib) (1.0.0)\n",
            "Downloading one_api-3.0.0-py3-none-any.whl (993 kB)\n",
            "\u001b[2K   \u001b[90m━━━━━━━━━━━━━━━━━━━━━━━━━━━━━━━━━━━━━━━━\u001b[0m \u001b[32m993.3/993.3 kB\u001b[0m \u001b[31m17.9 MB/s\u001b[0m eta \u001b[36m0:00:00\u001b[0m\n",
            "\u001b[?25hDownloading ibllib-3.2.0-py3-none-any.whl (8.7 MB)\n",
            "\u001b[2K   \u001b[90m━━━━━━━━━━━━━━━━━━━━━━━━━━━━━━━━━━━━━━━━\u001b[0m \u001b[32m8.7/8.7 MB\u001b[0m \u001b[31m61.4 MB/s\u001b[0m eta \u001b[36m0:00:00\u001b[0m\n",
            "\u001b[?25hDownloading colorlog-6.9.0-py3-none-any.whl (11 kB)\n",
            "Downloading flake8-7.1.2-py2.py3-none-any.whl (57 kB)\n",
            "\u001b[2K   \u001b[90m━━━━━━━━━━━━━━━━━━━━━━━━━━━━━━━━━━━━━━━━\u001b[0m \u001b[32m57.7/57.7 kB\u001b[0m \u001b[31m4.5 MB/s\u001b[0m eta \u001b[36m0:00:00\u001b[0m\n",
            "\u001b[?25hDownloading ibl_neuropixel-1.6.2-py3-none-any.whl (100 kB)\n",
            "\u001b[2K   \u001b[90m━━━━━━━━━━━━━━━━━━━━━━━━━━━━━━━━━━━━━━━━\u001b[0m \u001b[32m100.3/100.3 kB\u001b[0m \u001b[31m7.8 MB/s\u001b[0m eta \u001b[36m0:00:00\u001b[0m\n",
            "\u001b[?25hDownloading iblatlas-0.5.6-py3-none-any.whl (174 kB)\n",
            "\u001b[2K   \u001b[90m━━━━━━━━━━━━━━━━━━━━━━━━━━━━━━━━━━━━━━━━\u001b[0m \u001b[32m174.5/174.5 kB\u001b[0m \u001b[31m13.2 MB/s\u001b[0m eta \u001b[36m0:00:00\u001b[0m\n",
            "\u001b[?25hDownloading iblqt-0.4.2-py3-none-any.whl (14 kB)\n",
            "Downloading iblutil-1.14.0-py3-none-any.whl (49 kB)\n",
            "\u001b[2K   \u001b[90m━━━━━━━━━━━━━━━━━━━━━━━━━━━━━━━━━━━━━━━━\u001b[0m \u001b[32m49.8/49.8 kB\u001b[0m \u001b[31m3.4 MB/s\u001b[0m eta \u001b[36m0:00:00\u001b[0m\n",
            "\u001b[?25hDownloading mtscomp-1.0.2-py2.py3-none-any.whl (16 kB)\n",
            "Downloading phylib-2.6.0-py2.py3-none-any.whl (80 kB)\n",
            "\u001b[2K   \u001b[90m━━━━━━━━━━━━━━━━━━━━━━━━━━━━━━━━━━━━━━━━\u001b[0m \u001b[32m80.4/80.4 kB\u001b[0m \u001b[31m6.5 MB/s\u001b[0m eta \u001b[36m0:00:00\u001b[0m\n",
            "\u001b[?25hDownloading pynrrd-1.1.3-py3-none-any.whl (23 kB)\n",
            "Downloading slidingRP-1.1.1-py3-none-any.whl (40 kB)\n",
            "\u001b[2K   \u001b[90m━━━━━━━━━━━━━━━━━━━━━━━━━━━━━━━━━━━━━━━━\u001b[0m \u001b[32m40.2/40.2 kB\u001b[0m \u001b[31m2.2 MB/s\u001b[0m eta \u001b[36m0:00:00\u001b[0m\n",
            "\u001b[?25hDownloading boto3-1.37.8-py3-none-any.whl (139 kB)\n",
            "\u001b[2K   \u001b[90m━━━━━━━━━━━━━━━━━━━━━━━━━━━━━━━━━━━━━━━━\u001b[0m \u001b[32m139.5/139.5 kB\u001b[0m \u001b[31m10.2 MB/s\u001b[0m eta \u001b[36m0:00:00\u001b[0m\n",
            "\u001b[?25hDownloading globus_sdk-3.51.0-py3-none-any.whl (397 kB)\n",
            "\u001b[2K   \u001b[90m━━━━━━━━━━━━━━━━━━━━━━━━━━━━━━━━━━━━━━━━\u001b[0m \u001b[32m397.1/397.1 kB\u001b[0m \u001b[31m23.6 MB/s\u001b[0m eta \u001b[36m0:00:00\u001b[0m\n",
            "\u001b[?25hDownloading ibl_style-0.1.0-py3-none-any.whl (11 kB)\n",
            "Downloading imagecodecs-2024.12.30-cp311-cp311-manylinux_2_17_x86_64.manylinux2014_x86_64.whl (45.5 MB)\n",
            "\u001b[2K   \u001b[90m━━━━━━━━━━━━━━━━━━━━━━━━━━━━━━━━━━━━━━━━\u001b[0m \u001b[32m45.5/45.5 MB\u001b[0m \u001b[31m17.6 MB/s\u001b[0m eta \u001b[36m0:00:00\u001b[0m\n",
            "\u001b[?25hDownloading Psychofit-1.0.0.post0-py3-none-any.whl (5.7 kB)\n",
            "Downloading PyQt5-5.15.11-cp38-abi3-manylinux_2_17_x86_64.whl (8.2 MB)\n",
            "\u001b[2K   \u001b[90m━━━━━━━━━━━━━━━━━━━━━━━━━━━━━━━━━━━━━━━━\u001b[0m \u001b[32m8.2/8.2 MB\u001b[0m \u001b[31m95.5 MB/s\u001b[0m eta \u001b[36m0:00:00\u001b[0m\n",
            "\u001b[?25hDownloading ruff-0.9.9-py3-none-manylinux_2_17_x86_64.manylinux2014_x86_64.whl (11.2 MB)\n",
            "\u001b[2K   \u001b[90m━━━━━━━━━━━━━━━━━━━━━━━━━━━━━━━━━━━━━━━━\u001b[0m \u001b[32m11.2/11.2 MB\u001b[0m \u001b[31m97.4 MB/s\u001b[0m eta \u001b[36m0:00:00\u001b[0m\n",
            "\u001b[?25hDownloading sparse-0.15.5-py2.py3-none-any.whl (117 kB)\n",
            "\u001b[2K   \u001b[90m━━━━━━━━━━━━━━━━━━━━━━━━━━━━━━━━━━━━━━━━\u001b[0m \u001b[32m117.4/117.4 kB\u001b[0m \u001b[31m8.0 MB/s\u001b[0m eta \u001b[36m0:00:00\u001b[0m\n",
            "\u001b[?25hDownloading botocore-1.37.8-py3-none-any.whl (13.4 MB)\n",
            "\u001b[2K   \u001b[90m━━━━━━━━━━━━━━━━━━━━━━━━━━━━━━━━━━━━━━━━\u001b[0m \u001b[32m13.4/13.4 MB\u001b[0m \u001b[31m86.1 MB/s\u001b[0m eta \u001b[36m0:00:00\u001b[0m\n",
            "\u001b[?25hDownloading jmespath-1.0.1-py3-none-any.whl (20 kB)\n",
            "Downloading mccabe-0.7.0-py2.py3-none-any.whl (7.3 kB)\n",
            "Downloading pycodestyle-2.12.1-py2.py3-none-any.whl (31 kB)\n",
            "Downloading pyflakes-3.2.0-py2.py3-none-any.whl (62 kB)\n",
            "\u001b[2K   \u001b[90m━━━━━━━━━━━━━━━━━━━━━━━━━━━━━━━━━━━━━━━━\u001b[0m \u001b[32m62.7/62.7 kB\u001b[0m \u001b[31m3.8 MB/s\u001b[0m eta \u001b[36m0:00:00\u001b[0m\n",
            "\u001b[?25hDownloading PyQt5_Qt5-5.15.16-1-py3-none-manylinux2014_x86_64.whl (61.1 MB)\n",
            "\u001b[2K   \u001b[90m━━━━━━━━━━━━━━━━━━━━━━━━━━━━━━━━━━━━━━━━\u001b[0m \u001b[32m61.1/61.1 MB\u001b[0m \u001b[31m8.9 MB/s\u001b[0m eta \u001b[36m0:00:00\u001b[0m\n",
            "\u001b[?25hDownloading PyQt5_sip-12.17.0-cp311-cp311-manylinux_2_5_x86_64.manylinux1_x86_64.whl (276 kB)\n",
            "\u001b[2K   \u001b[90m━━━━━━━━━━━━━━━━━━━━━━━━━━━━━━━━━━━━━━━━\u001b[0m \u001b[32m276.4/276.4 kB\u001b[0m \u001b[31m14.3 MB/s\u001b[0m eta \u001b[36m0:00:00\u001b[0m\n",
            "\u001b[?25hDownloading pyqtgraph-0.13.7-py3-none-any.whl (1.9 MB)\n",
            "\u001b[2K   \u001b[90m━━━━━━━━━━━━━━━━━━━━━━━━━━━━━━━━━━━━━━━━\u001b[0m \u001b[32m1.9/1.9 MB\u001b[0m \u001b[31m58.5 MB/s\u001b[0m eta \u001b[36m0:00:00\u001b[0m\n",
            "\u001b[?25hDownloading QtPy-2.4.3-py3-none-any.whl (95 kB)\n",
            "\u001b[2K   \u001b[90m━━━━━━━━━━━━━━━━━━━━━━━━━━━━━━━━━━━━━━━━\u001b[0m \u001b[32m95.0/95.0 kB\u001b[0m \u001b[31m6.1 MB/s\u001b[0m eta \u001b[36m0:00:00\u001b[0m\n",
            "\u001b[?25hDownloading s3transfer-0.11.4-py3-none-any.whl (84 kB)\n",
            "\u001b[2K   \u001b[90m━━━━━━━━━━━━━━━━━━━━━━━━━━━━━━━━━━━━━━━━\u001b[0m \u001b[32m84.4/84.4 kB\u001b[0m \u001b[31m4.9 MB/s\u001b[0m eta \u001b[36m0:00:00\u001b[0m\n",
            "\u001b[?25hDownloading figrid-0.1.7-py3-none-any.whl (7.1 kB)\n",
            "Building wheels for collected packages: nptdms\n",
            "  Building wheel for nptdms (pyproject.toml) ... \u001b[?25l\u001b[?25hdone\n",
            "  Created wheel for nptdms: filename=nptdms-1.10.0-py3-none-any.whl size=108395 sha256=fbde6889043941464ab17a4e35fe4fcae8adeb165282a02bde14a7f620210852\n",
            "  Stored in directory: /root/.cache/pip/wheels/1b/4b/17/21e8b03b37ea51ce7ec9f5570cdf0decca93f537d61c06880f\n",
            "Successfully built nptdms\n",
            "Installing collected packages: PyQt5-Qt5, mtscomp, ruff, qtpy, pyqtgraph, PyQt5-sip, pynrrd, pyflakes, pycodestyle, nptdms, mccabe, jmespath, imagecodecs, colorlog, sparse, pyqt5, psychofit, flake8, botocore, s3transfer, phylib, iblutil, slidingRP, globus-sdk, figrid, boto3, ONE-api, ibl-style, iblqt, iblatlas, ibl-neuropixel, ibllib\n",
            "Successfully installed ONE-api-3.0.0 PyQt5-Qt5-5.15.16 PyQt5-sip-12.17.0 boto3-1.37.8 botocore-1.37.8 colorlog-6.9.0 figrid-0.1.7 flake8-7.1.2 globus-sdk-3.51.0 ibl-neuropixel-1.6.2 ibl-style-0.1.0 iblatlas-0.5.6 ibllib-3.2.0 iblqt-0.4.2 iblutil-1.14.0 imagecodecs-2024.12.30 jmespath-1.0.1 mccabe-0.7.0 mtscomp-1.0.2 nptdms-1.10.0 phylib-2.6.0 psychofit-1.0.0.post0 pycodestyle-2.12.1 pyflakes-3.2.0 pynrrd-1.1.3 pyqt5-5.15.11 pyqtgraph-0.13.7 qtpy-2.4.3 ruff-0.9.9 s3transfer-0.11.4 slidingRP-1.1.1 sparse-0.15.5\n"
          ]
        }
      ]
    },
    {
      "cell_type": "code",
      "source": [
        "! pip install -U kaleido"
      ],
      "metadata": {
        "colab": {
          "base_uri": "https://localhost:8080/"
        },
        "id": "AVuhKtVDObeJ",
        "outputId": "19bb1b1e-7598-4a98-eb88-ae599cf7570c"
      },
      "execution_count": null,
      "outputs": [
        {
          "output_type": "stream",
          "name": "stdout",
          "text": [
            "Collecting kaleido\n",
            "  Downloading kaleido-0.2.1-py2.py3-none-manylinux1_x86_64.whl.metadata (15 kB)\n",
            "Downloading kaleido-0.2.1-py2.py3-none-manylinux1_x86_64.whl (79.9 MB)\n",
            "\u001b[2K   \u001b[90m━━━━━━━━━━━━━━━━━━━━━━━━━━━━━━━━━━━━━━━━\u001b[0m \u001b[32m79.9/79.9 MB\u001b[0m \u001b[31m9.0 MB/s\u001b[0m eta \u001b[36m0:00:00\u001b[0m\n",
            "\u001b[?25hInstalling collected packages: kaleido\n",
            "Successfully installed kaleido-0.2.1\n"
          ]
        }
      ]
    },
    {
      "cell_type": "code",
      "source": [
        "import logging\n",
        "import os\n",
        "\n",
        "logger = logging.getLogger('ibllib')\n",
        "logger.setLevel(logging.CRITICAL)\n",
        "\n",
        "os.environ[\"TQDM_DISABLE\"] = \"1\""
      ],
      "metadata": {
        "id": "iRaL3nuLPJb0"
      },
      "execution_count": null,
      "outputs": []
    },
    {
      "cell_type": "markdown",
      "source": [
        "# imports"
      ],
      "metadata": {
        "id": "9RjCeEWrfk_E"
      }
    },
    {
      "cell_type": "code",
      "source": [
        "# general imports\n",
        "import numpy as np\n",
        "import matplotlib.pyplot as plt\n",
        "from statsmodels.stats.multitest import multipletests"
      ],
      "metadata": {
        "id": "23OqeFSAOrAA"
      },
      "execution_count": null,
      "outputs": []
    },
    {
      "cell_type": "code",
      "source": [
        "# one imports\n",
        "from one.api import ONE\n",
        "from brainbox.io.one import SessionLoader, SpikeSortingLoader\n",
        "from brainbox.singlecell import bin_spikes\n",
        "from brainbox.singlecell import bin_spikes2D\n",
        "from iblatlas.atlas import AllenAtlas\n",
        "ba = AllenAtlas()"
      ],
      "metadata": {
        "id": "Y5quegKriSCi",
        "colab": {
          "base_uri": "https://localhost:8080/"
        },
        "outputId": "886fe0c6-e152-489a-810f-0a3e39ba226d"
      },
      "execution_count": null,
      "outputs": [
        {
          "output_type": "stream",
          "name": "stdout",
          "text": [
            "Downloading: /root/Downloads/ONE/openalyx.internationalbrainlab.org/histology/ATLAS/Needles/Allen/average_template_25.nrrd Bytes: 32998960\n"
          ]
        },
        {
          "output_type": "stream",
          "name": "stderr",
          "text": [
            "100%|██████████| 31.470260620117188/31.470260620117188 [00:00<00:00, 44.70it/s]\n"
          ]
        },
        {
          "output_type": "stream",
          "name": "stdout",
          "text": [
            "Downloading: /root/Downloads/ONE/openalyx.internationalbrainlab.org/histology/ATLAS/Needles/Allen/annotation_25.nrrd Bytes: 4035363\n"
          ]
        },
        {
          "output_type": "stream",
          "name": "stderr",
          "text": [
            "100%|██████████| 3.848422050476074/3.848422050476074 [00:00<00:00, 38.97it/s]\n"
          ]
        }
      ]
    },
    {
      "cell_type": "markdown",
      "source": [
        "## one setup"
      ],
      "metadata": {
        "id": "WOXqYftROnl1"
      }
    },
    {
      "cell_type": "code",
      "source": [
        "#try without\n",
        "#ONE.setup()"
      ],
      "metadata": {
        "id": "A6swOvXcDs4D"
      },
      "execution_count": null,
      "outputs": []
    },
    {
      "cell_type": "code",
      "source": [
        "one = ONE(base_url='https://openalyx.internationalbrainlab.org', \\\n",
        "          password='international', \\\n",
        "          silent=True)"
      ],
      "metadata": {
        "id": "rDTrnTSbD0vw"
      },
      "execution_count": null,
      "outputs": []
    },
    {
      "cell_type": "markdown",
      "source": [
        "## SCdg"
      ],
      "metadata": {
        "id": "w2H5IVNpPvOL"
      }
    },
    {
      "cell_type": "markdown",
      "source": [
        "*example* of how to query"
      ],
      "metadata": {
        "id": "JlsTAo_VQss3"
      }
    },
    {
      "cell_type": "code",
      "source": [
        "insertions = one.search_insertions(atlas_acronym='SCdg', query_type='remote')\n",
        "pid = insertions[32] # example insertion\n",
        "[eid, pname] = one.pid2eid(pid)\n",
        "\n",
        "ssl = SpikeSortingLoader(pid=pid, one=one, atlas=ba)\n",
        "spikes, clusters, channels = ssl.load_spike_sorting()\n",
        "clusters = ssl.merge_clusters(spikes, clusters, channels)"
      ],
      "metadata": {
        "id": "z2R0PLKFemvY",
        "colab": {
          "base_uri": "https://localhost:8080/"
        },
        "outputId": "6ee7561f-5e87-47f1-dfd9-8f1c236577ce"
      },
      "execution_count": null,
      "outputs": [
        {
          "output_type": "stream",
          "name": "stderr",
          "text": [
            "/usr/local/lib/python3.11/dist-packages/one/util.py:406: ALFWarning: No default revision for dataset alf/probe00/pykilosort/#2024-05-06#/spikes.amps.npy; using most recent\n",
            "  warnings.warn(\n",
            "/usr/local/lib/python3.11/dist-packages/one/util.py:406: ALFWarning: No default revision for dataset alf/probe00/pykilosort/spikes.clusters.npy; using most recent\n",
            "  warnings.warn(\n",
            "/usr/local/lib/python3.11/dist-packages/one/util.py:406: ALFWarning: No default revision for dataset alf/probe00/pykilosort/#2024-05-06#/spikes.depths.npy; using most recent\n",
            "  warnings.warn(\n",
            "/usr/local/lib/python3.11/dist-packages/one/util.py:406: ALFWarning: No default revision for dataset alf/probe00/pykilosort/#2024-05-06#/spikes.times.npy; using most recent\n",
            "  warnings.warn(\n",
            "/usr/local/lib/python3.11/dist-packages/one/util.py:406: ALFWarning: No default revision for dataset alf/probe00/pykilosort/#2024-05-06#/clusters.channels.npy; using most recent\n",
            "  warnings.warn(\n",
            "/usr/local/lib/python3.11/dist-packages/one/util.py:406: ALFWarning: No default revision for dataset alf/probe00/pykilosort/#2024-05-06#/clusters.depths.npy; using most recent\n",
            "  warnings.warn(\n",
            "/usr/local/lib/python3.11/dist-packages/one/util.py:406: ALFWarning: No default revision for dataset alf/probe00/pykilosort/clusters.metrics.pqt; using most recent\n",
            "  warnings.warn(\n",
            "/usr/local/lib/python3.11/dist-packages/one/util.py:406: ALFWarning: No default revision for dataset alf/probe00/pykilosort/#2024-05-06#/clusters.uuids.csv; using most recent\n",
            "  warnings.warn(\n",
            "/usr/local/lib/python3.11/dist-packages/one/util.py:406: ALFWarning: No default revision for dataset alf/probe00/pykilosort/#2024-05-06#/channels.brainLocationIds_ccf_2017.npy; using most recent\n",
            "  warnings.warn(\n",
            "/usr/local/lib/python3.11/dist-packages/one/util.py:406: ALFWarning: No default revision for dataset alf/probe00/pykilosort/channels.localCoordinates.npy; using most recent\n",
            "  warnings.warn(\n",
            "/usr/local/lib/python3.11/dist-packages/one/util.py:406: ALFWarning: No default revision for dataset alf/probe00/pykilosort/#2024-05-06#/channels.mlapdv.npy; using most recent\n",
            "  warnings.warn(\n",
            "/usr/local/lib/python3.11/dist-packages/one/util.py:406: ALFWarning: No default revision for dataset alf/probe00/pykilosort/channels.rawInd.npy; using most recent\n",
            "  warnings.warn(\n",
            "/usr/local/lib/python3.11/dist-packages/one/util.py:406: ALFWarning: No default revision for dataset alf/probe00/pykilosort/#2024-05-06#/channels.brainLocationIds_ccf_2017.npy; using most recent\n",
            "  warnings.warn(\n",
            "/usr/local/lib/python3.11/dist-packages/one/util.py:406: ALFWarning: No default revision for dataset alf/probe00/pykilosort/channels.localCoordinates.npy; using most recent\n",
            "  warnings.warn(\n",
            "/usr/local/lib/python3.11/dist-packages/one/util.py:406: ALFWarning: No default revision for dataset alf/probe00/pykilosort/#2024-05-06#/channels.mlapdv.npy; using most recent\n",
            "  warnings.warn(\n",
            "/usr/local/lib/python3.11/dist-packages/one/util.py:406: ALFWarning: No default revision for dataset alf/probe00/pykilosort/channels.rawInd.npy; using most recent\n",
            "  warnings.warn(\n"
          ]
        }
      ]
    },
    {
      "cell_type": "code",
      "source": [
        "def print_probe_regions(pid, eid):\n",
        "    ssl = SpikeSortingLoader(pid=pid, one=one, atlas=ba)\n",
        "    spikes, clusters, channels = ssl.load_spike_sorting()\n",
        "    clusters = ssl.merge_clusters(spikes, clusters, channels)\n",
        "    unique_regions = np.unique(clusters['acronym'])\n",
        "    print(\"Regions found in clusters:\", unique_regions)"
      ],
      "metadata": {
        "id": "0mJz1R-tphRa"
      },
      "execution_count": null,
      "outputs": []
    },
    {
      "cell_type": "code",
      "source": [
        "print(pid)"
      ],
      "metadata": {
        "colab": {
          "base_uri": "https://localhost:8080/"
        },
        "id": "_iwMQH-eaLqJ",
        "outputId": "c2f9132a-9212-4896-b722-d6bb93602280"
      },
      "execution_count": null,
      "outputs": [
        {
          "output_type": "stream",
          "name": "stdout",
          "text": [
            "3675290c-8134-4598-b924-83edb7940269\n"
          ]
        }
      ]
    },
    {
      "cell_type": "code",
      "source": [
        "print_probe_regions(pid,eid)"
      ],
      "metadata": {
        "colab": {
          "base_uri": "https://localhost:8080/"
        },
        "id": "mryV_lwqpibh",
        "outputId": "64b71acc-504a-4482-e741-2e399ac04fb8"
      },
      "execution_count": null,
      "outputs": [
        {
          "output_type": "stream",
          "name": "stderr",
          "text": [
            "/usr/local/lib/python3.11/dist-packages/one/util.py:406: ALFWarning: No default revision for dataset alf/probe00/pykilosort/#2024-05-06#/spikes.amps.npy; using most recent\n",
            "  warnings.warn(\n",
            "/usr/local/lib/python3.11/dist-packages/one/util.py:406: ALFWarning: No default revision for dataset alf/probe00/pykilosort/spikes.clusters.npy; using most recent\n",
            "  warnings.warn(\n",
            "/usr/local/lib/python3.11/dist-packages/one/util.py:406: ALFWarning: No default revision for dataset alf/probe00/pykilosort/#2024-05-06#/spikes.depths.npy; using most recent\n",
            "  warnings.warn(\n",
            "/usr/local/lib/python3.11/dist-packages/one/util.py:406: ALFWarning: No default revision for dataset alf/probe00/pykilosort/#2024-05-06#/spikes.times.npy; using most recent\n",
            "  warnings.warn(\n",
            "/usr/local/lib/python3.11/dist-packages/one/util.py:406: ALFWarning: No default revision for dataset alf/probe00/pykilosort/#2024-05-06#/clusters.channels.npy; using most recent\n",
            "  warnings.warn(\n",
            "/usr/local/lib/python3.11/dist-packages/one/util.py:406: ALFWarning: No default revision for dataset alf/probe00/pykilosort/#2024-05-06#/clusters.depths.npy; using most recent\n",
            "  warnings.warn(\n",
            "/usr/local/lib/python3.11/dist-packages/one/util.py:406: ALFWarning: No default revision for dataset alf/probe00/pykilosort/clusters.metrics.pqt; using most recent\n",
            "  warnings.warn(\n",
            "/usr/local/lib/python3.11/dist-packages/one/util.py:406: ALFWarning: No default revision for dataset alf/probe00/pykilosort/#2024-05-06#/clusters.uuids.csv; using most recent\n",
            "  warnings.warn(\n",
            "/usr/local/lib/python3.11/dist-packages/one/util.py:406: ALFWarning: No default revision for dataset alf/probe00/pykilosort/#2024-05-06#/channels.brainLocationIds_ccf_2017.npy; using most recent\n",
            "  warnings.warn(\n",
            "/usr/local/lib/python3.11/dist-packages/one/util.py:406: ALFWarning: No default revision for dataset alf/probe00/pykilosort/channels.localCoordinates.npy; using most recent\n",
            "  warnings.warn(\n",
            "/usr/local/lib/python3.11/dist-packages/one/util.py:406: ALFWarning: No default revision for dataset alf/probe00/pykilosort/#2024-05-06#/channels.mlapdv.npy; using most recent\n",
            "  warnings.warn(\n",
            "/usr/local/lib/python3.11/dist-packages/one/util.py:406: ALFWarning: No default revision for dataset alf/probe00/pykilosort/channels.rawInd.npy; using most recent\n",
            "  warnings.warn(\n",
            "/usr/local/lib/python3.11/dist-packages/one/util.py:406: ALFWarning: No default revision for dataset alf/probe00/pykilosort/#2024-05-06#/channels.brainLocationIds_ccf_2017.npy; using most recent\n",
            "  warnings.warn(\n",
            "/usr/local/lib/python3.11/dist-packages/one/util.py:406: ALFWarning: No default revision for dataset alf/probe00/pykilosort/channels.localCoordinates.npy; using most recent\n",
            "  warnings.warn(\n",
            "/usr/local/lib/python3.11/dist-packages/one/util.py:406: ALFWarning: No default revision for dataset alf/probe00/pykilosort/#2024-05-06#/channels.mlapdv.npy; using most recent\n",
            "  warnings.warn(\n",
            "/usr/local/lib/python3.11/dist-packages/one/util.py:406: ALFWarning: No default revision for dataset alf/probe00/pykilosort/channels.rawInd.npy; using most recent\n",
            "  warnings.warn(\n"
          ]
        },
        {
          "output_type": "stream",
          "name": "stdout",
          "text": [
            "Regions found in clusters: ['MB' 'MRN' 'PRNr' 'SCdg' 'SCdw' 'SCig' 'SCiw' 'SCop' 'SCsg']\n"
          ]
        }
      ]
    },
    {
      "cell_type": "code",
      "source": [
        "import pandas as pd"
      ],
      "metadata": {
        "id": "zhKHt3PPrrCS"
      },
      "execution_count": null,
      "outputs": []
    },
    {
      "cell_type": "code",
      "source": [
        "clusters_df = pd.DataFrame(clusters)\n",
        "clusters_df[['label','acronym','cluster_id','firing_rate']]"
      ],
      "metadata": {
        "colab": {
          "base_uri": "https://localhost:8080/",
          "height": 424
        },
        "id": "UxC2yxlUqugE",
        "outputId": "4412e918-f74b-4144-a47d-2624fa7786da"
      },
      "execution_count": null,
      "outputs": [
        {
          "output_type": "execute_result",
          "data": {
            "text/plain": [
              "        label acronym  cluster_id  firing_rate\n",
              "0    0.333333    PRNr           0     4.051705\n",
              "1    0.000000    PRNr           1     0.315600\n",
              "2    0.333333    PRNr           2     0.106423\n",
              "3    0.333333    PRNr           3     0.018067\n",
              "4    0.000000    PRNr           4     0.060128\n",
              "..        ...     ...         ...          ...\n",
              "538  0.333333    SCdw         538     0.052506\n",
              "539  0.666667    SCdg         539     1.256754\n",
              "540  0.666667    SCdg         540     0.491749\n",
              "541  0.666667    SCdg         541     0.095132\n",
              "542  0.666667    SCop         542     0.742987\n",
              "\n",
              "[543 rows x 4 columns]"
            ],
            "text/html": [
              "\n",
              "  <div id=\"df-edd14ba3-aa7c-43fb-8609-03c68ce8c6e6\" class=\"colab-df-container\">\n",
              "    <div>\n",
              "<style scoped>\n",
              "    .dataframe tbody tr th:only-of-type {\n",
              "        vertical-align: middle;\n",
              "    }\n",
              "\n",
              "    .dataframe tbody tr th {\n",
              "        vertical-align: top;\n",
              "    }\n",
              "\n",
              "    .dataframe thead th {\n",
              "        text-align: right;\n",
              "    }\n",
              "</style>\n",
              "<table border=\"1\" class=\"dataframe\">\n",
              "  <thead>\n",
              "    <tr style=\"text-align: right;\">\n",
              "      <th></th>\n",
              "      <th>label</th>\n",
              "      <th>acronym</th>\n",
              "      <th>cluster_id</th>\n",
              "      <th>firing_rate</th>\n",
              "    </tr>\n",
              "  </thead>\n",
              "  <tbody>\n",
              "    <tr>\n",
              "      <th>0</th>\n",
              "      <td>0.333333</td>\n",
              "      <td>PRNr</td>\n",
              "      <td>0</td>\n",
              "      <td>4.051705</td>\n",
              "    </tr>\n",
              "    <tr>\n",
              "      <th>1</th>\n",
              "      <td>0.000000</td>\n",
              "      <td>PRNr</td>\n",
              "      <td>1</td>\n",
              "      <td>0.315600</td>\n",
              "    </tr>\n",
              "    <tr>\n",
              "      <th>2</th>\n",
              "      <td>0.333333</td>\n",
              "      <td>PRNr</td>\n",
              "      <td>2</td>\n",
              "      <td>0.106423</td>\n",
              "    </tr>\n",
              "    <tr>\n",
              "      <th>3</th>\n",
              "      <td>0.333333</td>\n",
              "      <td>PRNr</td>\n",
              "      <td>3</td>\n",
              "      <td>0.018067</td>\n",
              "    </tr>\n",
              "    <tr>\n",
              "      <th>4</th>\n",
              "      <td>0.000000</td>\n",
              "      <td>PRNr</td>\n",
              "      <td>4</td>\n",
              "      <td>0.060128</td>\n",
              "    </tr>\n",
              "    <tr>\n",
              "      <th>...</th>\n",
              "      <td>...</td>\n",
              "      <td>...</td>\n",
              "      <td>...</td>\n",
              "      <td>...</td>\n",
              "    </tr>\n",
              "    <tr>\n",
              "      <th>538</th>\n",
              "      <td>0.333333</td>\n",
              "      <td>SCdw</td>\n",
              "      <td>538</td>\n",
              "      <td>0.052506</td>\n",
              "    </tr>\n",
              "    <tr>\n",
              "      <th>539</th>\n",
              "      <td>0.666667</td>\n",
              "      <td>SCdg</td>\n",
              "      <td>539</td>\n",
              "      <td>1.256754</td>\n",
              "    </tr>\n",
              "    <tr>\n",
              "      <th>540</th>\n",
              "      <td>0.666667</td>\n",
              "      <td>SCdg</td>\n",
              "      <td>540</td>\n",
              "      <td>0.491749</td>\n",
              "    </tr>\n",
              "    <tr>\n",
              "      <th>541</th>\n",
              "      <td>0.666667</td>\n",
              "      <td>SCdg</td>\n",
              "      <td>541</td>\n",
              "      <td>0.095132</td>\n",
              "    </tr>\n",
              "    <tr>\n",
              "      <th>542</th>\n",
              "      <td>0.666667</td>\n",
              "      <td>SCop</td>\n",
              "      <td>542</td>\n",
              "      <td>0.742987</td>\n",
              "    </tr>\n",
              "  </tbody>\n",
              "</table>\n",
              "<p>543 rows × 4 columns</p>\n",
              "</div>\n",
              "    <div class=\"colab-df-buttons\">\n",
              "\n",
              "  <div class=\"colab-df-container\">\n",
              "    <button class=\"colab-df-convert\" onclick=\"convertToInteractive('df-edd14ba3-aa7c-43fb-8609-03c68ce8c6e6')\"\n",
              "            title=\"Convert this dataframe to an interactive table.\"\n",
              "            style=\"display:none;\">\n",
              "\n",
              "  <svg xmlns=\"http://www.w3.org/2000/svg\" height=\"24px\" viewBox=\"0 -960 960 960\">\n",
              "    <path d=\"M120-120v-720h720v720H120Zm60-500h600v-160H180v160Zm220 220h160v-160H400v160Zm0 220h160v-160H400v160ZM180-400h160v-160H180v160Zm440 0h160v-160H620v160ZM180-180h160v-160H180v160Zm440 0h160v-160H620v160Z\"/>\n",
              "  </svg>\n",
              "    </button>\n",
              "\n",
              "  <style>\n",
              "    .colab-df-container {\n",
              "      display:flex;\n",
              "      gap: 12px;\n",
              "    }\n",
              "\n",
              "    .colab-df-convert {\n",
              "      background-color: #E8F0FE;\n",
              "      border: none;\n",
              "      border-radius: 50%;\n",
              "      cursor: pointer;\n",
              "      display: none;\n",
              "      fill: #1967D2;\n",
              "      height: 32px;\n",
              "      padding: 0 0 0 0;\n",
              "      width: 32px;\n",
              "    }\n",
              "\n",
              "    .colab-df-convert:hover {\n",
              "      background-color: #E2EBFA;\n",
              "      box-shadow: 0px 1px 2px rgba(60, 64, 67, 0.3), 0px 1px 3px 1px rgba(60, 64, 67, 0.15);\n",
              "      fill: #174EA6;\n",
              "    }\n",
              "\n",
              "    .colab-df-buttons div {\n",
              "      margin-bottom: 4px;\n",
              "    }\n",
              "\n",
              "    [theme=dark] .colab-df-convert {\n",
              "      background-color: #3B4455;\n",
              "      fill: #D2E3FC;\n",
              "    }\n",
              "\n",
              "    [theme=dark] .colab-df-convert:hover {\n",
              "      background-color: #434B5C;\n",
              "      box-shadow: 0px 1px 3px 1px rgba(0, 0, 0, 0.15);\n",
              "      filter: drop-shadow(0px 1px 2px rgba(0, 0, 0, 0.3));\n",
              "      fill: #FFFFFF;\n",
              "    }\n",
              "  </style>\n",
              "\n",
              "    <script>\n",
              "      const buttonEl =\n",
              "        document.querySelector('#df-edd14ba3-aa7c-43fb-8609-03c68ce8c6e6 button.colab-df-convert');\n",
              "      buttonEl.style.display =\n",
              "        google.colab.kernel.accessAllowed ? 'block' : 'none';\n",
              "\n",
              "      async function convertToInteractive(key) {\n",
              "        const element = document.querySelector('#df-edd14ba3-aa7c-43fb-8609-03c68ce8c6e6');\n",
              "        const dataTable =\n",
              "          await google.colab.kernel.invokeFunction('convertToInteractive',\n",
              "                                                    [key], {});\n",
              "        if (!dataTable) return;\n",
              "\n",
              "        const docLinkHtml = 'Like what you see? Visit the ' +\n",
              "          '<a target=\"_blank\" href=https://colab.research.google.com/notebooks/data_table.ipynb>data table notebook</a>'\n",
              "          + ' to learn more about interactive tables.';\n",
              "        element.innerHTML = '';\n",
              "        dataTable['output_type'] = 'display_data';\n",
              "        await google.colab.output.renderOutput(dataTable, element);\n",
              "        const docLink = document.createElement('div');\n",
              "        docLink.innerHTML = docLinkHtml;\n",
              "        element.appendChild(docLink);\n",
              "      }\n",
              "    </script>\n",
              "  </div>\n",
              "\n",
              "\n",
              "<div id=\"df-86af8e84-5c26-47e1-a2ed-afa75c291e38\">\n",
              "  <button class=\"colab-df-quickchart\" onclick=\"quickchart('df-86af8e84-5c26-47e1-a2ed-afa75c291e38')\"\n",
              "            title=\"Suggest charts\"\n",
              "            style=\"display:none;\">\n",
              "\n",
              "<svg xmlns=\"http://www.w3.org/2000/svg\" height=\"24px\"viewBox=\"0 0 24 24\"\n",
              "     width=\"24px\">\n",
              "    <g>\n",
              "        <path d=\"M19 3H5c-1.1 0-2 .9-2 2v14c0 1.1.9 2 2 2h14c1.1 0 2-.9 2-2V5c0-1.1-.9-2-2-2zM9 17H7v-7h2v7zm4 0h-2V7h2v10zm4 0h-2v-4h2v4z\"/>\n",
              "    </g>\n",
              "</svg>\n",
              "  </button>\n",
              "\n",
              "<style>\n",
              "  .colab-df-quickchart {\n",
              "      --bg-color: #E8F0FE;\n",
              "      --fill-color: #1967D2;\n",
              "      --hover-bg-color: #E2EBFA;\n",
              "      --hover-fill-color: #174EA6;\n",
              "      --disabled-fill-color: #AAA;\n",
              "      --disabled-bg-color: #DDD;\n",
              "  }\n",
              "\n",
              "  [theme=dark] .colab-df-quickchart {\n",
              "      --bg-color: #3B4455;\n",
              "      --fill-color: #D2E3FC;\n",
              "      --hover-bg-color: #434B5C;\n",
              "      --hover-fill-color: #FFFFFF;\n",
              "      --disabled-bg-color: #3B4455;\n",
              "      --disabled-fill-color: #666;\n",
              "  }\n",
              "\n",
              "  .colab-df-quickchart {\n",
              "    background-color: var(--bg-color);\n",
              "    border: none;\n",
              "    border-radius: 50%;\n",
              "    cursor: pointer;\n",
              "    display: none;\n",
              "    fill: var(--fill-color);\n",
              "    height: 32px;\n",
              "    padding: 0;\n",
              "    width: 32px;\n",
              "  }\n",
              "\n",
              "  .colab-df-quickchart:hover {\n",
              "    background-color: var(--hover-bg-color);\n",
              "    box-shadow: 0 1px 2px rgba(60, 64, 67, 0.3), 0 1px 3px 1px rgba(60, 64, 67, 0.15);\n",
              "    fill: var(--button-hover-fill-color);\n",
              "  }\n",
              "\n",
              "  .colab-df-quickchart-complete:disabled,\n",
              "  .colab-df-quickchart-complete:disabled:hover {\n",
              "    background-color: var(--disabled-bg-color);\n",
              "    fill: var(--disabled-fill-color);\n",
              "    box-shadow: none;\n",
              "  }\n",
              "\n",
              "  .colab-df-spinner {\n",
              "    border: 2px solid var(--fill-color);\n",
              "    border-color: transparent;\n",
              "    border-bottom-color: var(--fill-color);\n",
              "    animation:\n",
              "      spin 1s steps(1) infinite;\n",
              "  }\n",
              "\n",
              "  @keyframes spin {\n",
              "    0% {\n",
              "      border-color: transparent;\n",
              "      border-bottom-color: var(--fill-color);\n",
              "      border-left-color: var(--fill-color);\n",
              "    }\n",
              "    20% {\n",
              "      border-color: transparent;\n",
              "      border-left-color: var(--fill-color);\n",
              "      border-top-color: var(--fill-color);\n",
              "    }\n",
              "    30% {\n",
              "      border-color: transparent;\n",
              "      border-left-color: var(--fill-color);\n",
              "      border-top-color: var(--fill-color);\n",
              "      border-right-color: var(--fill-color);\n",
              "    }\n",
              "    40% {\n",
              "      border-color: transparent;\n",
              "      border-right-color: var(--fill-color);\n",
              "      border-top-color: var(--fill-color);\n",
              "    }\n",
              "    60% {\n",
              "      border-color: transparent;\n",
              "      border-right-color: var(--fill-color);\n",
              "    }\n",
              "    80% {\n",
              "      border-color: transparent;\n",
              "      border-right-color: var(--fill-color);\n",
              "      border-bottom-color: var(--fill-color);\n",
              "    }\n",
              "    90% {\n",
              "      border-color: transparent;\n",
              "      border-bottom-color: var(--fill-color);\n",
              "    }\n",
              "  }\n",
              "</style>\n",
              "\n",
              "  <script>\n",
              "    async function quickchart(key) {\n",
              "      const quickchartButtonEl =\n",
              "        document.querySelector('#' + key + ' button');\n",
              "      quickchartButtonEl.disabled = true;  // To prevent multiple clicks.\n",
              "      quickchartButtonEl.classList.add('colab-df-spinner');\n",
              "      try {\n",
              "        const charts = await google.colab.kernel.invokeFunction(\n",
              "            'suggestCharts', [key], {});\n",
              "      } catch (error) {\n",
              "        console.error('Error during call to suggestCharts:', error);\n",
              "      }\n",
              "      quickchartButtonEl.classList.remove('colab-df-spinner');\n",
              "      quickchartButtonEl.classList.add('colab-df-quickchart-complete');\n",
              "    }\n",
              "    (() => {\n",
              "      let quickchartButtonEl =\n",
              "        document.querySelector('#df-86af8e84-5c26-47e1-a2ed-afa75c291e38 button');\n",
              "      quickchartButtonEl.style.display =\n",
              "        google.colab.kernel.accessAllowed ? 'block' : 'none';\n",
              "    })();\n",
              "  </script>\n",
              "</div>\n",
              "\n",
              "    </div>\n",
              "  </div>\n"
            ],
            "application/vnd.google.colaboratory.intrinsic+json": {
              "type": "dataframe",
              "summary": "{\n  \"name\": \"clusters_df[['label','acronym','cluster_id','firing_rate']]\",\n  \"rows\": 543,\n  \"fields\": [\n    {\n      \"column\": \"label\",\n      \"properties\": {\n        \"dtype\": \"number\",\n        \"std\": 0.27125959360955565,\n        \"min\": 0.0,\n        \"max\": 1.0,\n        \"num_unique_values\": 4,\n        \"samples\": [\n          0.0,\n          1.0,\n          0.3333333333333333\n        ],\n        \"semantic_type\": \"\",\n        \"description\": \"\"\n      }\n    },\n    {\n      \"column\": \"acronym\",\n      \"properties\": {\n        \"dtype\": \"category\",\n        \"num_unique_values\": 9,\n        \"samples\": [\n          \"SCop\",\n          \"MRN\",\n          \"SCiw\"\n        ],\n        \"semantic_type\": \"\",\n        \"description\": \"\"\n      }\n    },\n    {\n      \"column\": \"cluster_id\",\n      \"properties\": {\n        \"dtype\": \"number\",\n        \"std\": 156,\n        \"min\": 0,\n        \"max\": 542,\n        \"num_unique_values\": 543,\n        \"samples\": [\n          530,\n          478,\n          354\n        ],\n        \"semantic_type\": \"\",\n        \"description\": \"\"\n      }\n    },\n    {\n      \"column\": \"firing_rate\",\n      \"properties\": {\n        \"dtype\": \"number\",\n        \"std\": 10.326303362270437,\n        \"min\": 0.0008468692133275465,\n        \"max\": 96.50187601762502,\n        \"num_unique_values\": 540,\n        \"samples\": [\n          0.17106758109216438,\n          11.594486399667439,\n          1.0800405367303976\n        ],\n        \"semantic_type\": \"\",\n        \"description\": \"\"\n      }\n    }\n  ]\n}"
            }
          },
          "metadata": {},
          "execution_count": 13
        }
      ]
    },
    {
      "cell_type": "code",
      "source": [
        "SCdg_df = clusters_df[clusters_df['acronym'] == 'SCdg']\n",
        "SCdg_df = SCdg_df[SCdg_df['label']>=0.5]\n",
        "SCiw_df = clusters_df[clusters_df['acronym'] == 'SCiw']\n",
        "SCiw_df = SCiw_df[SCiw_df['label']>=0.5]"
      ],
      "metadata": {
        "id": "TGbOikVtv9ho"
      },
      "execution_count": null,
      "outputs": []
    },
    {
      "cell_type": "code",
      "source": [
        "SCdg_clusters = SCdg_df['cluster_id'].to_numpy()\n",
        "SCiw_clusters = SCiw_df['cluster_id'].to_numpy()"
      ],
      "metadata": {
        "id": "WafKu6zBA6Rb"
      },
      "execution_count": null,
      "outputs": []
    },
    {
      "cell_type": "code",
      "source": [
        "len(SCdg_clusters)"
      ],
      "metadata": {
        "colab": {
          "base_uri": "https://localhost:8080/"
        },
        "id": "pJjIwDyJA8SU",
        "outputId": "fe2be3c4-ce7e-4993-9ce6-d1b6d5f023f5"
      },
      "execution_count": null,
      "outputs": [
        {
          "output_type": "execute_result",
          "data": {
            "text/plain": [
              "34"
            ]
          },
          "metadata": {},
          "execution_count": 16
        }
      ]
    },
    {
      "cell_type": "code",
      "source": [
        "len(SCiw_clusters)"
      ],
      "metadata": {
        "colab": {
          "base_uri": "https://localhost:8080/"
        },
        "id": "xaWRM6TGD5Fe",
        "outputId": "651c274d-7f0d-4a72-9112-456036db4c9d"
      },
      "execution_count": null,
      "outputs": [
        {
          "output_type": "execute_result",
          "data": {
            "text/plain": [
              "34"
            ]
          },
          "metadata": {},
          "execution_count": 17
        }
      ]
    },
    {
      "cell_type": "code",
      "source": [
        "eid, _ = one.pid2eid(pid)\n",
        "sl = SessionLoader(eid=eid, one=one)\n",
        "sl.load_trials()\n",
        "sl.trials['stimOn_times']"
      ],
      "metadata": {
        "id": "YYZsqmBHMAjg",
        "colab": {
          "base_uri": "https://localhost:8080/",
          "height": 493
        },
        "outputId": "ad52a754-2102-4e06-9343-759683b9fb4a"
      },
      "execution_count": null,
      "outputs": [
        {
          "output_type": "stream",
          "name": "stderr",
          "text": [
            "/usr/local/lib/python3.11/dist-packages/one/util.py:428: ALFWarning: Multiple revisions: \"\", \"2024-07-15\"\n",
            "  warnings.warn(f'Multiple revisions: {rev_list}', alferr.ALFWarning)\n"
          ]
        },
        {
          "output_type": "execute_result",
          "data": {
            "text/plain": [
              "0        11.531900\n",
              "1        17.184194\n",
              "2        22.498323\n",
              "3        26.666168\n",
              "4        29.964068\n",
              "          ...     \n",
              "821    3504.438602\n",
              "822    3508.405567\n",
              "823    3511.953608\n",
              "824    3515.770255\n",
              "825    3519.586835\n",
              "Name: stimOn_times, Length: 826, dtype: float64"
            ],
            "text/html": [
              "<div>\n",
              "<style scoped>\n",
              "    .dataframe tbody tr th:only-of-type {\n",
              "        vertical-align: middle;\n",
              "    }\n",
              "\n",
              "    .dataframe tbody tr th {\n",
              "        vertical-align: top;\n",
              "    }\n",
              "\n",
              "    .dataframe thead th {\n",
              "        text-align: right;\n",
              "    }\n",
              "</style>\n",
              "<table border=\"1\" class=\"dataframe\">\n",
              "  <thead>\n",
              "    <tr style=\"text-align: right;\">\n",
              "      <th></th>\n",
              "      <th>stimOn_times</th>\n",
              "    </tr>\n",
              "  </thead>\n",
              "  <tbody>\n",
              "    <tr>\n",
              "      <th>0</th>\n",
              "      <td>11.531900</td>\n",
              "    </tr>\n",
              "    <tr>\n",
              "      <th>1</th>\n",
              "      <td>17.184194</td>\n",
              "    </tr>\n",
              "    <tr>\n",
              "      <th>2</th>\n",
              "      <td>22.498323</td>\n",
              "    </tr>\n",
              "    <tr>\n",
              "      <th>3</th>\n",
              "      <td>26.666168</td>\n",
              "    </tr>\n",
              "    <tr>\n",
              "      <th>4</th>\n",
              "      <td>29.964068</td>\n",
              "    </tr>\n",
              "    <tr>\n",
              "      <th>...</th>\n",
              "      <td>...</td>\n",
              "    </tr>\n",
              "    <tr>\n",
              "      <th>821</th>\n",
              "      <td>3504.438602</td>\n",
              "    </tr>\n",
              "    <tr>\n",
              "      <th>822</th>\n",
              "      <td>3508.405567</td>\n",
              "    </tr>\n",
              "    <tr>\n",
              "      <th>823</th>\n",
              "      <td>3511.953608</td>\n",
              "    </tr>\n",
              "    <tr>\n",
              "      <th>824</th>\n",
              "      <td>3515.770255</td>\n",
              "    </tr>\n",
              "    <tr>\n",
              "      <th>825</th>\n",
              "      <td>3519.586835</td>\n",
              "    </tr>\n",
              "  </tbody>\n",
              "</table>\n",
              "<p>826 rows × 1 columns</p>\n",
              "</div><br><label><b>dtype:</b> float64</label>"
            ]
          },
          "metadata": {},
          "execution_count": 18
        }
      ]
    },
    {
      "cell_type": "code",
      "source": [
        "def find_sensitive_clusters(\n",
        "    pid,               # Probe insertion ID\n",
        "    event_times,       # 1D array of event times (e.g. stimOn_times)\n",
        "    sl,                # Your SessionLoader or object with sl.trials\n",
        "    pre_time=0.5,      # Time (sec) before each event\n",
        "    post_time=0.5,     # Time (sec) after each event\n",
        "    bin_size=0.01,     # Bin size (sec)\n",
        "    alpha=0.005,       # Significance level\n",
        "    n_shuffles=500\n",
        "):\n",
        "    \"\"\"\n",
        "    1) Loads spikes/clusters for the given PID.\n",
        "    2) Uses 'bin_spikes2D' to create an (nTrials x nClusters x nBins) array.\n",
        "    3) Splits trials into left vs. right (based on sl.trials).\n",
        "    4) Performs a permutation test for each cluster, comparing right minus left.\n",
        "    5) Returns a list of \"good\" cluster IDs with significant modulation.\n",
        "    \"\"\"\n",
        "\n",
        "    one = ONE()\n",
        "    ba = AllenAtlas()\n",
        "\n",
        "    # ---------------- Load the spike data ----------------\n",
        "    ssl = SpikeSortingLoader(pid=pid, one=one, atlas=ba)\n",
        "    spikes, clusters, channels = ssl.load_spike_sorting()\n",
        "    clusters = ssl.merge_clusters(spikes, clusters, channels)\n",
        "\n",
        "    # ---------------- Restrict to \"good\" clusters ----------------\n",
        "    # IBL convention: label=1 => \"good\"\n",
        "    if 'label' not in clusters:\n",
        "        raise ValueError(\"Missing 'label' field in clusters. Cannot filter 'good' clusters.\")\n",
        "\n",
        "    good_cluster_idx = (clusters['label'] >= 0.5)  # Keeping clusters that are \"good\"\n",
        "    good_cluster_IDs = clusters['cluster_id'][good_cluster_idx]\n",
        "\n",
        "    # Debugging: Check how many \"good\" clusters exist\n",
        "    print(f\"Total clusters found: {len(clusters['cluster_id'])}\")\n",
        "    print(f\"Total 'good' clusters found: {len(good_cluster_IDs)}\")\n",
        "\n",
        "    if len(good_cluster_IDs) == 0:\n",
        "        raise ValueError(\"No good clusters found in this dataset. Check cluster labels!\")\n",
        "\n",
        "    # ---------------- Filter spikes to only \"good\" clusters ----------------\n",
        "    good_spk_indx = np.where(np.isin(spikes['clusters'], good_cluster_IDs))[0]\n",
        "    spikes_g = {key: val[good_spk_indx] for key, val in spikes.items()}\n",
        "\n",
        "    # Ensure only good cluster IDs are used\n",
        "    cluster_ids = np.array([cid for cid in np.unique(spikes_g['clusters']) if cid in good_cluster_IDs])\n",
        "\n",
        "    print(f\"Total unique 'good' clusters in spikes_g: {len(cluster_ids)}\")\n",
        "\n",
        "    # ---------------- Bin with bin_spikes2D ----------------\n",
        "    event_times = np.asarray(event_times)\n",
        "\n",
        "    # shape(raster) => (nEvents, nClusters, nBins)\n",
        "    raster_3D, times = bin_spikes2D(\n",
        "        spikes_g['times'],    # All spike times\n",
        "        spikes_g['clusters'], # Cluster IDs for each spike\n",
        "        cluster_ids,          # Which clusters to include\n",
        "        event_times,          # The event times to align to\n",
        "        pre_time=pre_time,\n",
        "        post_time=post_time,\n",
        "        bin_size=bin_size\n",
        "    )\n",
        "\n",
        "    # Convert spike counts to firing rates (spikes/sec)\n",
        "    raster_3D = raster_3D / bin_size  # (nTrials, nClusters, nBins)\n",
        "\n",
        "    # ---------------- Identify left vs right trials ----------------\n",
        "    left_idx = ~np.isnan(sl.trials['contrastLeft'])\n",
        "    right_idx = ~np.isnan(sl.trials['contrastRight'])\n",
        "\n",
        "    # Convert to array of trial indices (if they are Pandas Series)\n",
        "    left_idx = np.asarray(left_idx)\n",
        "    right_idx = np.asarray(right_idx)\n",
        "\n",
        "    # ---------------- Permutation test for each cluster ----------------\n",
        "    sig_clusters = []\n",
        "    n_clusters = len(cluster_ids)\n",
        "    n_bins = raster_3D.shape[2]\n",
        "\n",
        "    for i, cid in enumerate(cluster_ids):\n",
        "        # Extract this cluster's data => shape: (nTrials, nBins)\n",
        "        cluster_raster = raster_3D[:, i, :]  # slice out cluster 'i'\n",
        "\n",
        "        # Observed difference in firing rate (Right - Left) for each bin\n",
        "        obs_diff = (\n",
        "            np.nanmean(cluster_raster[right_idx, :], axis=0) -\n",
        "            np.nanmean(cluster_raster[left_idx, :], axis=0)\n",
        "        )\n",
        "\n",
        "        # Build the null distribution via shuffling\n",
        "        shuffled_diff = np.zeros((n_shuffles, n_bins))\n",
        "        for s in range(n_shuffles):\n",
        "            perm_left = np.random.permutation(left_idx)\n",
        "            perm_right = np.random.permutation(right_idx)\n",
        "            shuffled_diff[s, :] = (\n",
        "                np.nanmean(cluster_raster[perm_right, :], axis=0) -\n",
        "                np.nanmean(cluster_raster[perm_left, :], axis=0)\n",
        "            )\n",
        "\n",
        "        # Compute p-values\n",
        "        p_vals = np.mean(np.abs(shuffled_diff) >= np.abs(obs_diff), axis=0)\n",
        "\n",
        "        # Bonferroni correction\n",
        "        bonf_threshold = alpha / n_bins\n",
        "        bonf_reject = (p_vals < bonf_threshold)\n",
        "\n",
        "        # FDR correction\n",
        "        remaining = p_vals[bonf_reject]\n",
        "        if len(remaining) > 0:\n",
        "            _, p_fdr_corrected, _, _ = multipletests(remaining, alpha=alpha, method='fdr_bh')\n",
        "            final_reject = np.copy(bonf_reject)\n",
        "            final_reject[bonf_reject] = (p_fdr_corrected < alpha)\n",
        "        else:\n",
        "            final_reject = np.zeros_like(p_vals, dtype=bool)\n",
        "\n",
        "        # If more than 5 bins are significant, we call it “sensitive”\n",
        "        if np.count_nonzero(final_reject) > 5:\n",
        "            sig_clusters.append(cid)\n",
        "\n",
        "        # Stop after collecting 30 clusters\n",
        "        if len(sig_clusters) >= 30:\n",
        "            print(\"Reached max of 30 sensitive clusters, stopping early.\")\n",
        "            return sig_clusters, times\n",
        "\n",
        "    return sig_clusters, times"
      ],
      "metadata": {
        "id": "3KewAJuWCwOS"
      },
      "execution_count": null,
      "outputs": []
    },
    {
      "cell_type": "code",
      "source": [
        "def find_sensitive_clusters_dict(atlas_acronym):\n",
        "    insertions = one.search_insertions(atlas_acronym=atlas_acronym, query_type='remote')\n",
        "    print(f\"Found {len(insertions)} insertions in {atlas_acronym}.\")\n",
        "    sig_clusters_dict = {}\n",
        "\n",
        "    if len(insertions) > 0:\n",
        "        pid = insertions[0]\n",
        "        print(\"Using PID:\", pid)\n",
        "        eid, pname = one.pid2eid(pid)\n",
        "\n",
        "        sl = SessionLoader(eid=eid, one=one)\n",
        "        sl.load_trials()\n",
        "        trials = sl.trials\n",
        "\n",
        "        # 1) Stim\n",
        "        sig_stim_clusters, stim_times = find_sensitive_clusters(\n",
        "            pid,\n",
        "            event_times=trials['stimOn_times'],\n",
        "            sl=sl,\n",
        "            pre_time=0.5,\n",
        "            post_time=0.5,\n",
        "            bin_size=0.05,\n",
        "            alpha=0.005,\n",
        "            n_shuffles=500\n",
        "        )\n",
        "\n",
        "        # 2) Movement\n",
        "        sig_movement_clusters, move_times = find_sensitive_clusters(\n",
        "            pid,\n",
        "            event_times=trials['firstMovement_times'],\n",
        "            sl=sl,\n",
        "            pre_time=0.5,\n",
        "            post_time=0.5,\n",
        "            bin_size=0.05,\n",
        "            alpha=0.005,\n",
        "            n_shuffles=500\n",
        "        )\n",
        "\n",
        "        # 3) Reward\n",
        "        sig_reward_clusters, reward_times = find_sensitive_clusters(\n",
        "            pid,\n",
        "            event_times=trials['feedback_times'],\n",
        "            sl=sl,\n",
        "            pre_time=0.5,\n",
        "            post_time=0.5,\n",
        "            bin_size=0.05,\n",
        "            alpha=0.005,\n",
        "            n_shuffles=500\n",
        "        )\n",
        "\n",
        "    sig_clusters_dict['pid'] = pid\n",
        "    sig_clusters_dict['stimOn'] = sig_stim_clusters\n",
        "    sig_clusters_dict['firstMovement'] = sig_movement_clusters\n",
        "    sig_clusters_dict['feedback'] = sig_reward_clusters\n",
        "\n",
        "    return sig_clusters_dict"
      ],
      "metadata": {
        "id": "6qtMc5fzCsM5"
      },
      "execution_count": null,
      "outputs": []
    },
    {
      "cell_type": "code",
      "source": [
        "# Get sensitive clusters for 'SCdg' and 'SCiw'\n",
        "sig_scdg = find_sensitive_clusters_dict(atlas_acronym='SCdg')\n",
        "sig_sciw = find_sensitive_clusters_dict(atlas_acronym='SCiw')"
      ],
      "metadata": {
        "colab": {
          "base_uri": "https://localhost:8080/"
        },
        "id": "PoAf3GuwgbWR",
        "outputId": "c13f6b87-72e4-411a-a089-d044c0b37fcd"
      },
      "execution_count": null,
      "outputs": [
        {
          "output_type": "stream",
          "name": "stdout",
          "text": [
            "Found 39 insertions in SCdg.\n",
            "Using PID: 069c2674-80b0-44b4-a3d9-28337512967f\n"
          ]
        },
        {
          "output_type": "stream",
          "name": "stderr",
          "text": [
            "/usr/local/lib/python3.11/dist-packages/one/util.py:406: ALFWarning: No default revision for dataset alf/probe00/pykilosort/spikes.amps.npy; using most recent\n",
            "  warnings.warn(\n",
            "/usr/local/lib/python3.11/dist-packages/one/util.py:406: ALFWarning: No default revision for dataset alf/probe00/pykilosort/#2024-05-06#/spikes.clusters.npy; using most recent\n",
            "  warnings.warn(\n",
            "/usr/local/lib/python3.11/dist-packages/one/util.py:406: ALFWarning: No default revision for dataset alf/probe00/pykilosort/#2024-05-06#/spikes.depths.npy; using most recent\n",
            "  warnings.warn(\n",
            "/usr/local/lib/python3.11/dist-packages/one/util.py:406: ALFWarning: No default revision for dataset alf/probe00/pykilosort/spikes.times.npy; using most recent\n",
            "  warnings.warn(\n",
            "/usr/local/lib/python3.11/dist-packages/one/util.py:406: ALFWarning: No default revision for dataset alf/probe00/pykilosort/#2024-05-06#/clusters.channels.npy; using most recent\n",
            "  warnings.warn(\n",
            "/usr/local/lib/python3.11/dist-packages/one/util.py:406: ALFWarning: No default revision for dataset alf/probe00/pykilosort/clusters.depths.npy; using most recent\n",
            "  warnings.warn(\n",
            "/usr/local/lib/python3.11/dist-packages/one/util.py:406: ALFWarning: No default revision for dataset alf/probe00/pykilosort/#2024-05-06#/clusters.metrics.pqt; using most recent\n",
            "  warnings.warn(\n",
            "/usr/local/lib/python3.11/dist-packages/one/util.py:406: ALFWarning: No default revision for dataset alf/probe00/pykilosort/#2024-05-06#/clusters.uuids.csv; using most recent\n",
            "  warnings.warn(\n",
            "/usr/local/lib/python3.11/dist-packages/one/util.py:406: ALFWarning: No default revision for dataset alf/probe00/pykilosort/#2024-05-06#/channels.brainLocationIds_ccf_2017.npy; using most recent\n",
            "  warnings.warn(\n",
            "/usr/local/lib/python3.11/dist-packages/one/util.py:406: ALFWarning: No default revision for dataset alf/probe00/pykilosort/#2024-05-06#/channels.localCoordinates.npy; using most recent\n",
            "  warnings.warn(\n",
            "/usr/local/lib/python3.11/dist-packages/one/util.py:406: ALFWarning: No default revision for dataset alf/probe00/pykilosort/#2024-05-06#/channels.mlapdv.npy; using most recent\n",
            "  warnings.warn(\n",
            "/usr/local/lib/python3.11/dist-packages/one/util.py:406: ALFWarning: No default revision for dataset alf/probe00/pykilosort/channels.rawInd.npy; using most recent\n",
            "  warnings.warn(\n",
            "/usr/local/lib/python3.11/dist-packages/one/util.py:406: ALFWarning: No default revision for dataset alf/probe00/pykilosort/#2024-05-06#/channels.brainLocationIds_ccf_2017.npy; using most recent\n",
            "  warnings.warn(\n",
            "/usr/local/lib/python3.11/dist-packages/one/util.py:406: ALFWarning: No default revision for dataset alf/probe00/pykilosort/#2024-05-06#/channels.localCoordinates.npy; using most recent\n",
            "  warnings.warn(\n",
            "/usr/local/lib/python3.11/dist-packages/one/util.py:406: ALFWarning: No default revision for dataset alf/probe00/pykilosort/#2024-05-06#/channels.mlapdv.npy; using most recent\n",
            "  warnings.warn(\n",
            "/usr/local/lib/python3.11/dist-packages/one/util.py:406: ALFWarning: No default revision for dataset alf/probe00/pykilosort/channels.rawInd.npy; using most recent\n",
            "  warnings.warn(\n"
          ]
        },
        {
          "output_type": "stream",
          "name": "stdout",
          "text": [
            "Total clusters found: 1363\n",
            "Total 'good' clusters found: 653\n",
            "Total unique 'good' clusters in spikes_g: 653\n",
            "Reached max of 30 sensitive clusters, stopping early.\n"
          ]
        },
        {
          "output_type": "stream",
          "name": "stderr",
          "text": [
            "/usr/local/lib/python3.11/dist-packages/one/util.py:406: ALFWarning: No default revision for dataset alf/probe00/pykilosort/spikes.amps.npy; using most recent\n",
            "  warnings.warn(\n",
            "/usr/local/lib/python3.11/dist-packages/one/util.py:406: ALFWarning: No default revision for dataset alf/probe00/pykilosort/#2024-05-06#/spikes.clusters.npy; using most recent\n",
            "  warnings.warn(\n",
            "/usr/local/lib/python3.11/dist-packages/one/util.py:406: ALFWarning: No default revision for dataset alf/probe00/pykilosort/#2024-05-06#/spikes.depths.npy; using most recent\n",
            "  warnings.warn(\n",
            "/usr/local/lib/python3.11/dist-packages/one/util.py:406: ALFWarning: No default revision for dataset alf/probe00/pykilosort/spikes.times.npy; using most recent\n",
            "  warnings.warn(\n",
            "/usr/local/lib/python3.11/dist-packages/one/util.py:406: ALFWarning: No default revision for dataset alf/probe00/pykilosort/#2024-05-06#/clusters.channels.npy; using most recent\n",
            "  warnings.warn(\n",
            "/usr/local/lib/python3.11/dist-packages/one/util.py:406: ALFWarning: No default revision for dataset alf/probe00/pykilosort/clusters.depths.npy; using most recent\n",
            "  warnings.warn(\n",
            "/usr/local/lib/python3.11/dist-packages/one/util.py:406: ALFWarning: No default revision for dataset alf/probe00/pykilosort/#2024-05-06#/clusters.metrics.pqt; using most recent\n",
            "  warnings.warn(\n",
            "/usr/local/lib/python3.11/dist-packages/one/util.py:406: ALFWarning: No default revision for dataset alf/probe00/pykilosort/#2024-05-06#/clusters.uuids.csv; using most recent\n",
            "  warnings.warn(\n",
            "/usr/local/lib/python3.11/dist-packages/one/util.py:406: ALFWarning: No default revision for dataset alf/probe00/pykilosort/#2024-05-06#/channels.brainLocationIds_ccf_2017.npy; using most recent\n",
            "  warnings.warn(\n",
            "/usr/local/lib/python3.11/dist-packages/one/util.py:406: ALFWarning: No default revision for dataset alf/probe00/pykilosort/#2024-05-06#/channels.localCoordinates.npy; using most recent\n",
            "  warnings.warn(\n",
            "/usr/local/lib/python3.11/dist-packages/one/util.py:406: ALFWarning: No default revision for dataset alf/probe00/pykilosort/#2024-05-06#/channels.mlapdv.npy; using most recent\n",
            "  warnings.warn(\n",
            "/usr/local/lib/python3.11/dist-packages/one/util.py:406: ALFWarning: No default revision for dataset alf/probe00/pykilosort/channels.rawInd.npy; using most recent\n",
            "  warnings.warn(\n",
            "/usr/local/lib/python3.11/dist-packages/one/util.py:406: ALFWarning: No default revision for dataset alf/probe00/pykilosort/#2024-05-06#/channels.brainLocationIds_ccf_2017.npy; using most recent\n",
            "  warnings.warn(\n",
            "/usr/local/lib/python3.11/dist-packages/one/util.py:406: ALFWarning: No default revision for dataset alf/probe00/pykilosort/#2024-05-06#/channels.localCoordinates.npy; using most recent\n",
            "  warnings.warn(\n",
            "/usr/local/lib/python3.11/dist-packages/one/util.py:406: ALFWarning: No default revision for dataset alf/probe00/pykilosort/#2024-05-06#/channels.mlapdv.npy; using most recent\n",
            "  warnings.warn(\n",
            "/usr/local/lib/python3.11/dist-packages/one/util.py:406: ALFWarning: No default revision for dataset alf/probe00/pykilosort/channels.rawInd.npy; using most recent\n",
            "  warnings.warn(\n"
          ]
        },
        {
          "output_type": "stream",
          "name": "stdout",
          "text": [
            "Total clusters found: 1363\n",
            "Total 'good' clusters found: 653\n",
            "Total unique 'good' clusters in spikes_g: 653\n",
            "Reached max of 30 sensitive clusters, stopping early.\n"
          ]
        },
        {
          "output_type": "stream",
          "name": "stderr",
          "text": [
            "/usr/local/lib/python3.11/dist-packages/one/util.py:406: ALFWarning: No default revision for dataset alf/probe00/pykilosort/spikes.amps.npy; using most recent\n",
            "  warnings.warn(\n",
            "/usr/local/lib/python3.11/dist-packages/one/util.py:406: ALFWarning: No default revision for dataset alf/probe00/pykilosort/#2024-05-06#/spikes.clusters.npy; using most recent\n",
            "  warnings.warn(\n",
            "/usr/local/lib/python3.11/dist-packages/one/util.py:406: ALFWarning: No default revision for dataset alf/probe00/pykilosort/#2024-05-06#/spikes.depths.npy; using most recent\n",
            "  warnings.warn(\n",
            "/usr/local/lib/python3.11/dist-packages/one/util.py:406: ALFWarning: No default revision for dataset alf/probe00/pykilosort/spikes.times.npy; using most recent\n",
            "  warnings.warn(\n",
            "/usr/local/lib/python3.11/dist-packages/one/util.py:406: ALFWarning: No default revision for dataset alf/probe00/pykilosort/#2024-05-06#/clusters.channels.npy; using most recent\n",
            "  warnings.warn(\n",
            "/usr/local/lib/python3.11/dist-packages/one/util.py:406: ALFWarning: No default revision for dataset alf/probe00/pykilosort/clusters.depths.npy; using most recent\n",
            "  warnings.warn(\n",
            "/usr/local/lib/python3.11/dist-packages/one/util.py:406: ALFWarning: No default revision for dataset alf/probe00/pykilosort/#2024-05-06#/clusters.metrics.pqt; using most recent\n",
            "  warnings.warn(\n",
            "/usr/local/lib/python3.11/dist-packages/one/util.py:406: ALFWarning: No default revision for dataset alf/probe00/pykilosort/#2024-05-06#/clusters.uuids.csv; using most recent\n",
            "  warnings.warn(\n",
            "/usr/local/lib/python3.11/dist-packages/one/util.py:406: ALFWarning: No default revision for dataset alf/probe00/pykilosort/#2024-05-06#/channels.brainLocationIds_ccf_2017.npy; using most recent\n",
            "  warnings.warn(\n",
            "/usr/local/lib/python3.11/dist-packages/one/util.py:406: ALFWarning: No default revision for dataset alf/probe00/pykilosort/#2024-05-06#/channels.localCoordinates.npy; using most recent\n",
            "  warnings.warn(\n",
            "/usr/local/lib/python3.11/dist-packages/one/util.py:406: ALFWarning: No default revision for dataset alf/probe00/pykilosort/#2024-05-06#/channels.mlapdv.npy; using most recent\n",
            "  warnings.warn(\n",
            "/usr/local/lib/python3.11/dist-packages/one/util.py:406: ALFWarning: No default revision for dataset alf/probe00/pykilosort/channels.rawInd.npy; using most recent\n",
            "  warnings.warn(\n",
            "/usr/local/lib/python3.11/dist-packages/one/util.py:406: ALFWarning: No default revision for dataset alf/probe00/pykilosort/#2024-05-06#/channels.brainLocationIds_ccf_2017.npy; using most recent\n",
            "  warnings.warn(\n",
            "/usr/local/lib/python3.11/dist-packages/one/util.py:406: ALFWarning: No default revision for dataset alf/probe00/pykilosort/#2024-05-06#/channels.localCoordinates.npy; using most recent\n",
            "  warnings.warn(\n",
            "/usr/local/lib/python3.11/dist-packages/one/util.py:406: ALFWarning: No default revision for dataset alf/probe00/pykilosort/#2024-05-06#/channels.mlapdv.npy; using most recent\n",
            "  warnings.warn(\n",
            "/usr/local/lib/python3.11/dist-packages/one/util.py:406: ALFWarning: No default revision for dataset alf/probe00/pykilosort/channels.rawInd.npy; using most recent\n",
            "  warnings.warn(\n"
          ]
        },
        {
          "output_type": "stream",
          "name": "stdout",
          "text": [
            "Total clusters found: 1363\n",
            "Total 'good' clusters found: 653\n",
            "Total unique 'good' clusters in spikes_g: 653\n",
            "Reached max of 30 sensitive clusters, stopping early.\n",
            "Found 60 insertions in SCiw.\n",
            "Using PID: 069c2674-80b0-44b4-a3d9-28337512967f\n"
          ]
        },
        {
          "output_type": "stream",
          "name": "stderr",
          "text": [
            "/usr/local/lib/python3.11/dist-packages/one/util.py:406: ALFWarning: No default revision for dataset alf/probe00/pykilosort/spikes.amps.npy; using most recent\n",
            "  warnings.warn(\n",
            "/usr/local/lib/python3.11/dist-packages/one/util.py:406: ALFWarning: No default revision for dataset alf/probe00/pykilosort/#2024-05-06#/spikes.clusters.npy; using most recent\n",
            "  warnings.warn(\n",
            "/usr/local/lib/python3.11/dist-packages/one/util.py:406: ALFWarning: No default revision for dataset alf/probe00/pykilosort/#2024-05-06#/spikes.depths.npy; using most recent\n",
            "  warnings.warn(\n",
            "/usr/local/lib/python3.11/dist-packages/one/util.py:406: ALFWarning: No default revision for dataset alf/probe00/pykilosort/spikes.times.npy; using most recent\n",
            "  warnings.warn(\n",
            "/usr/local/lib/python3.11/dist-packages/one/util.py:406: ALFWarning: No default revision for dataset alf/probe00/pykilosort/#2024-05-06#/clusters.channels.npy; using most recent\n",
            "  warnings.warn(\n",
            "/usr/local/lib/python3.11/dist-packages/one/util.py:406: ALFWarning: No default revision for dataset alf/probe00/pykilosort/clusters.depths.npy; using most recent\n",
            "  warnings.warn(\n",
            "/usr/local/lib/python3.11/dist-packages/one/util.py:406: ALFWarning: No default revision for dataset alf/probe00/pykilosort/#2024-05-06#/clusters.metrics.pqt; using most recent\n",
            "  warnings.warn(\n",
            "/usr/local/lib/python3.11/dist-packages/one/util.py:406: ALFWarning: No default revision for dataset alf/probe00/pykilosort/#2024-05-06#/clusters.uuids.csv; using most recent\n",
            "  warnings.warn(\n",
            "/usr/local/lib/python3.11/dist-packages/one/util.py:406: ALFWarning: No default revision for dataset alf/probe00/pykilosort/#2024-05-06#/channels.brainLocationIds_ccf_2017.npy; using most recent\n",
            "  warnings.warn(\n",
            "/usr/local/lib/python3.11/dist-packages/one/util.py:406: ALFWarning: No default revision for dataset alf/probe00/pykilosort/#2024-05-06#/channels.localCoordinates.npy; using most recent\n",
            "  warnings.warn(\n",
            "/usr/local/lib/python3.11/dist-packages/one/util.py:406: ALFWarning: No default revision for dataset alf/probe00/pykilosort/#2024-05-06#/channels.mlapdv.npy; using most recent\n",
            "  warnings.warn(\n",
            "/usr/local/lib/python3.11/dist-packages/one/util.py:406: ALFWarning: No default revision for dataset alf/probe00/pykilosort/channels.rawInd.npy; using most recent\n",
            "  warnings.warn(\n",
            "/usr/local/lib/python3.11/dist-packages/one/util.py:406: ALFWarning: No default revision for dataset alf/probe00/pykilosort/#2024-05-06#/channels.brainLocationIds_ccf_2017.npy; using most recent\n",
            "  warnings.warn(\n",
            "/usr/local/lib/python3.11/dist-packages/one/util.py:406: ALFWarning: No default revision for dataset alf/probe00/pykilosort/#2024-05-06#/channels.localCoordinates.npy; using most recent\n",
            "  warnings.warn(\n",
            "/usr/local/lib/python3.11/dist-packages/one/util.py:406: ALFWarning: No default revision for dataset alf/probe00/pykilosort/#2024-05-06#/channels.mlapdv.npy; using most recent\n",
            "  warnings.warn(\n",
            "/usr/local/lib/python3.11/dist-packages/one/util.py:406: ALFWarning: No default revision for dataset alf/probe00/pykilosort/channels.rawInd.npy; using most recent\n",
            "  warnings.warn(\n"
          ]
        },
        {
          "output_type": "stream",
          "name": "stdout",
          "text": [
            "Total clusters found: 1363\n",
            "Total 'good' clusters found: 653\n",
            "Total unique 'good' clusters in spikes_g: 653\n",
            "Reached max of 30 sensitive clusters, stopping early.\n"
          ]
        },
        {
          "output_type": "stream",
          "name": "stderr",
          "text": [
            "/usr/local/lib/python3.11/dist-packages/one/util.py:406: ALFWarning: No default revision for dataset alf/probe00/pykilosort/spikes.amps.npy; using most recent\n",
            "  warnings.warn(\n",
            "/usr/local/lib/python3.11/dist-packages/one/util.py:406: ALFWarning: No default revision for dataset alf/probe00/pykilosort/#2024-05-06#/spikes.clusters.npy; using most recent\n",
            "  warnings.warn(\n",
            "/usr/local/lib/python3.11/dist-packages/one/util.py:406: ALFWarning: No default revision for dataset alf/probe00/pykilosort/#2024-05-06#/spikes.depths.npy; using most recent\n",
            "  warnings.warn(\n",
            "/usr/local/lib/python3.11/dist-packages/one/util.py:406: ALFWarning: No default revision for dataset alf/probe00/pykilosort/spikes.times.npy; using most recent\n",
            "  warnings.warn(\n",
            "/usr/local/lib/python3.11/dist-packages/one/util.py:406: ALFWarning: No default revision for dataset alf/probe00/pykilosort/#2024-05-06#/clusters.channels.npy; using most recent\n",
            "  warnings.warn(\n",
            "/usr/local/lib/python3.11/dist-packages/one/util.py:406: ALFWarning: No default revision for dataset alf/probe00/pykilosort/clusters.depths.npy; using most recent\n",
            "  warnings.warn(\n",
            "/usr/local/lib/python3.11/dist-packages/one/util.py:406: ALFWarning: No default revision for dataset alf/probe00/pykilosort/#2024-05-06#/clusters.metrics.pqt; using most recent\n",
            "  warnings.warn(\n",
            "/usr/local/lib/python3.11/dist-packages/one/util.py:406: ALFWarning: No default revision for dataset alf/probe00/pykilosort/#2024-05-06#/clusters.uuids.csv; using most recent\n",
            "  warnings.warn(\n",
            "/usr/local/lib/python3.11/dist-packages/one/util.py:406: ALFWarning: No default revision for dataset alf/probe00/pykilosort/#2024-05-06#/channels.brainLocationIds_ccf_2017.npy; using most recent\n",
            "  warnings.warn(\n",
            "/usr/local/lib/python3.11/dist-packages/one/util.py:406: ALFWarning: No default revision for dataset alf/probe00/pykilosort/#2024-05-06#/channels.localCoordinates.npy; using most recent\n",
            "  warnings.warn(\n",
            "/usr/local/lib/python3.11/dist-packages/one/util.py:406: ALFWarning: No default revision for dataset alf/probe00/pykilosort/#2024-05-06#/channels.mlapdv.npy; using most recent\n",
            "  warnings.warn(\n",
            "/usr/local/lib/python3.11/dist-packages/one/util.py:406: ALFWarning: No default revision for dataset alf/probe00/pykilosort/channels.rawInd.npy; using most recent\n",
            "  warnings.warn(\n",
            "/usr/local/lib/python3.11/dist-packages/one/util.py:406: ALFWarning: No default revision for dataset alf/probe00/pykilosort/#2024-05-06#/channels.brainLocationIds_ccf_2017.npy; using most recent\n",
            "  warnings.warn(\n",
            "/usr/local/lib/python3.11/dist-packages/one/util.py:406: ALFWarning: No default revision for dataset alf/probe00/pykilosort/#2024-05-06#/channels.localCoordinates.npy; using most recent\n",
            "  warnings.warn(\n",
            "/usr/local/lib/python3.11/dist-packages/one/util.py:406: ALFWarning: No default revision for dataset alf/probe00/pykilosort/#2024-05-06#/channels.mlapdv.npy; using most recent\n",
            "  warnings.warn(\n",
            "/usr/local/lib/python3.11/dist-packages/one/util.py:406: ALFWarning: No default revision for dataset alf/probe00/pykilosort/channels.rawInd.npy; using most recent\n",
            "  warnings.warn(\n"
          ]
        },
        {
          "output_type": "stream",
          "name": "stdout",
          "text": [
            "Total clusters found: 1363\n",
            "Total 'good' clusters found: 653\n",
            "Total unique 'good' clusters in spikes_g: 653\n",
            "Reached max of 30 sensitive clusters, stopping early.\n"
          ]
        },
        {
          "output_type": "stream",
          "name": "stderr",
          "text": [
            "/usr/local/lib/python3.11/dist-packages/one/util.py:406: ALFWarning: No default revision for dataset alf/probe00/pykilosort/spikes.amps.npy; using most recent\n",
            "  warnings.warn(\n",
            "/usr/local/lib/python3.11/dist-packages/one/util.py:406: ALFWarning: No default revision for dataset alf/probe00/pykilosort/#2024-05-06#/spikes.clusters.npy; using most recent\n",
            "  warnings.warn(\n",
            "/usr/local/lib/python3.11/dist-packages/one/util.py:406: ALFWarning: No default revision for dataset alf/probe00/pykilosort/#2024-05-06#/spikes.depths.npy; using most recent\n",
            "  warnings.warn(\n",
            "/usr/local/lib/python3.11/dist-packages/one/util.py:406: ALFWarning: No default revision for dataset alf/probe00/pykilosort/spikes.times.npy; using most recent\n",
            "  warnings.warn(\n",
            "/usr/local/lib/python3.11/dist-packages/one/util.py:406: ALFWarning: No default revision for dataset alf/probe00/pykilosort/#2024-05-06#/clusters.channels.npy; using most recent\n",
            "  warnings.warn(\n",
            "/usr/local/lib/python3.11/dist-packages/one/util.py:406: ALFWarning: No default revision for dataset alf/probe00/pykilosort/clusters.depths.npy; using most recent\n",
            "  warnings.warn(\n",
            "/usr/local/lib/python3.11/dist-packages/one/util.py:406: ALFWarning: No default revision for dataset alf/probe00/pykilosort/#2024-05-06#/clusters.metrics.pqt; using most recent\n",
            "  warnings.warn(\n",
            "/usr/local/lib/python3.11/dist-packages/one/util.py:406: ALFWarning: No default revision for dataset alf/probe00/pykilosort/#2024-05-06#/clusters.uuids.csv; using most recent\n",
            "  warnings.warn(\n",
            "/usr/local/lib/python3.11/dist-packages/one/util.py:406: ALFWarning: No default revision for dataset alf/probe00/pykilosort/#2024-05-06#/channels.brainLocationIds_ccf_2017.npy; using most recent\n",
            "  warnings.warn(\n",
            "/usr/local/lib/python3.11/dist-packages/one/util.py:406: ALFWarning: No default revision for dataset alf/probe00/pykilosort/#2024-05-06#/channels.localCoordinates.npy; using most recent\n",
            "  warnings.warn(\n",
            "/usr/local/lib/python3.11/dist-packages/one/util.py:406: ALFWarning: No default revision for dataset alf/probe00/pykilosort/#2024-05-06#/channels.mlapdv.npy; using most recent\n",
            "  warnings.warn(\n",
            "/usr/local/lib/python3.11/dist-packages/one/util.py:406: ALFWarning: No default revision for dataset alf/probe00/pykilosort/channels.rawInd.npy; using most recent\n",
            "  warnings.warn(\n",
            "/usr/local/lib/python3.11/dist-packages/one/util.py:406: ALFWarning: No default revision for dataset alf/probe00/pykilosort/#2024-05-06#/channels.brainLocationIds_ccf_2017.npy; using most recent\n",
            "  warnings.warn(\n",
            "/usr/local/lib/python3.11/dist-packages/one/util.py:406: ALFWarning: No default revision for dataset alf/probe00/pykilosort/#2024-05-06#/channels.localCoordinates.npy; using most recent\n",
            "  warnings.warn(\n",
            "/usr/local/lib/python3.11/dist-packages/one/util.py:406: ALFWarning: No default revision for dataset alf/probe00/pykilosort/#2024-05-06#/channels.mlapdv.npy; using most recent\n",
            "  warnings.warn(\n",
            "/usr/local/lib/python3.11/dist-packages/one/util.py:406: ALFWarning: No default revision for dataset alf/probe00/pykilosort/channels.rawInd.npy; using most recent\n",
            "  warnings.warn(\n"
          ]
        },
        {
          "output_type": "stream",
          "name": "stdout",
          "text": [
            "Total clusters found: 1363\n",
            "Total 'good' clusters found: 653\n",
            "Total unique 'good' clusters in spikes_g: 653\n",
            "Reached max of 30 sensitive clusters, stopping early.\n"
          ]
        }
      ]
    },
    {
      "cell_type": "code",
      "source": [
        "def extract_spikes_for_pcca_by_region(pid, sig_scdg, sig_sciw, event_type, one, ba):\n",
        "    \"\"\"\n",
        "    Extracts spike data for PCCA analysis, keeping regions separate\n",
        "\n",
        "    Args:\n",
        "        pid: Probe insertion ID\n",
        "        sig_scdg: Dictionary with sensitive clusters for SCdg\n",
        "        sig_sciw: Dictionary with sensitive clusters for SCiw\n",
        "        event_type: 'stimOn', 'firstMovement', or 'feedback'\n",
        "        one, ba: Required objects for data loading\n",
        "\n",
        "    Returns:\n",
        "        Dictionary with separate spike data for each region\n",
        "    \"\"\"\n",
        "    # Map event type to column name\n",
        "    event_column = f\"{event_type}_times\"\n",
        "\n",
        "    # Get the clusters for each region\n",
        "    scdg_clusters = set(sig_scdg[event_type])\n",
        "    sciw_clusters = set(sig_sciw[event_type])\n",
        "\n",
        "    # We need at least one cluster from each region to load session data\n",
        "    reference_cluster = next(iter(scdg_clusters)) if scdg_clusters else next(iter(sciw_clusters))\n",
        "\n",
        "    # Load session data once for efficiency\n",
        "    all_spikes, all_clusters, sl = load_cluster_data(pid, reference_cluster, one, ba)\n",
        "\n",
        "    # Get event times\n",
        "    if event_column not in sl.trials.columns:\n",
        "        raise ValueError(f\"{event_column} not found in trials data\")\n",
        "\n",
        "    event_times = sl.trials[event_column].to_numpy()\n",
        "\n",
        "    # Process SCdg clusters\n",
        "    scdg_data = {}\n",
        "    for cluster_id in scdg_clusters:\n",
        "        try:\n",
        "            # Get spike times for this cluster\n",
        "            cluster_spike_times = all_spikes['times'][all_spikes['clusters'] == cluster_id]\n",
        "\n",
        "            # Bin the spikes\n",
        "            binned_spikes, bin_times = bin_spikes(\n",
        "                cluster_spike_times, event_times,\n",
        "                pre_time=0.5, post_time=1.0, bin_size=0.05\n",
        "            )\n",
        "\n",
        "            scdg_data[cluster_id] = {\n",
        "                'times': cluster_spike_times,\n",
        "                'binned': binned_spikes,\n",
        "                'bin_times': bin_times\n",
        "            }\n",
        "        except Exception as e:\n",
        "            print(f\"Error processing SCdg cluster {cluster_id}: {e}\")\n",
        "\n",
        "    # Process SCiw clusters\n",
        "    sciw_data = {}\n",
        "    for cluster_id in sciw_clusters:\n",
        "        try:\n",
        "            # Get spike times for this cluster\n",
        "            cluster_spike_times = all_spikes['times'][all_spikes['clusters'] == cluster_id]\n",
        "\n",
        "            # Bin the spikes\n",
        "            binned_spikes, bin_times = bin_spikes(\n",
        "                cluster_spike_times, event_times,\n",
        "                pre_time=0.5, post_time=1.0, bin_size=0.05\n",
        "            )\n",
        "\n",
        "            sciw_data[cluster_id] = {\n",
        "                'times': cluster_spike_times,\n",
        "                'binned': binned_spikes,\n",
        "                'bin_times': bin_times\n",
        "            }\n",
        "        except Exception as e:\n",
        "            print(f\"Error processing SCiw cluster {cluster_id}: {e}\")\n",
        "\n",
        "    return {\n",
        "        'SCdg': scdg_data,\n",
        "        'SCiw': sciw_data,\n",
        "        'trials': sl,\n",
        "        'event_times': event_times,\n",
        "        'bin_times': bin_times if 'bin_times' in locals() else None\n",
        "    }"
      ],
      "metadata": {
        "id": "StjQP0jjM4aL"
      },
      "execution_count": null,
      "outputs": []
    },
    {
      "cell_type": "code",
      "source": [
        "def sort_trials_condition(sl, condition='left-right'):\n",
        "    \"\"\"\n",
        "    Returns (trial_idx, dividers, colors, labels) for the specified condition.\n",
        "    Conditions:\n",
        "      1) 'left-right': sorts by choice=-1 (left) vs choice=+1 (right)\n",
        "      2) 'correct-incorrect': uses sl.trials['feedbackType'] == 1 => correct, 0 => incorrect\n",
        "      3) 'all': lumps all trials together\n",
        "    \"\"\"\n",
        "\n",
        "    valid_idx = np.arange(len(sl.trials))\n",
        "    if 'choice' in sl.trials.columns:\n",
        "        pass\n",
        "\n",
        "    # build arrays\n",
        "    choice = sl.trials['choice'].to_numpy()\n",
        "    fb_type = None\n",
        "    if 'feedbackType' in sl.trials.columns:\n",
        "        fb_type = sl.trials['feedbackType'].to_numpy()\n",
        "\n",
        "    if condition == 'left-right':\n",
        "        left_idx = np.where(choice == -1)[0]\n",
        "        right_idx = np.where(choice == 1)[0]\n",
        "        trial_idx = np.concatenate([left_idx, right_idx])\n",
        "        dividers = [len(left_idx)]\n",
        "        colors = ['orange', 'purple']\n",
        "        labels = ['Left', 'Right']\n",
        "\n",
        "    elif condition == 'correct-incorrect':\n",
        "        if fb_type is None:\n",
        "            raise ValueError(\"feedbackType not found in sl.trials; can't do correct-incorrect sort.\")\n",
        "        corr_idx = np.where(fb_type > 0)[0]\n",
        "        incorr_idx = np.where(fb_type < 0)[0]\n",
        "        trial_idx = np.concatenate([corr_idx, incorr_idx])\n",
        "        dividers = [len(corr_idx)]\n",
        "        colors = ['green', 'red']\n",
        "        labels = ['Correct', 'Incorrect']\n",
        "\n",
        "    elif condition == 'all':\n",
        "        # All trials in one block\n",
        "        trial_idx = np.arange(len(sl.trials))\n",
        "        dividers = []\n",
        "        colors = ['gray']\n",
        "        labels = ['All Trials']\n",
        "    else:\n",
        "        raise ValueError(f\"Unknown condition: {condition}\")\n",
        "\n",
        "    # Filter out any out-of-range indices if needed\n",
        "    trial_idx = trial_idx[trial_idx < len(sl.trials)]\n",
        "\n",
        "    return trial_idx, dividers, colors, labels"
      ],
      "metadata": {
        "id": "UHMGthgfNfAc"
      },
      "execution_count": null,
      "outputs": []
    },
    {
      "cell_type": "code",
      "source": [
        "def prepare_pcca_matrices(region_data, condition='left-right'):\n",
        "    \"\"\"\n",
        "    Prepares data matrices for PCCA between SCdg and SCiw\n",
        "\n",
        "    Args:\n",
        "        region_data: Output from extract_spikes_for_pcca_by_region\n",
        "        condition: 'left-right', 'correct-incorrect', or 'all'\n",
        "\n",
        "    Returns:\n",
        "        X_scdg, X_sciw: Data matrices for each region\n",
        "        trial_idx: Sorted trial indices\n",
        "    \"\"\"\n",
        "    trials = region_data['trials']\n",
        "\n",
        "    # Get trial indices for the condition\n",
        "    trial_idx, dividers, colors, labels = sort_trials_condition(trials, condition)\n",
        "\n",
        "    # Get binned data for both regions\n",
        "    scdg_binned = []\n",
        "    scdg_clusters = []\n",
        "    for cluster_id, data in region_data['SCdg'].items():\n",
        "        scdg_binned.append(data['binned'][trial_idx])\n",
        "        scdg_clusters.append(cluster_id)\n",
        "\n",
        "    sciw_binned = []\n",
        "    sciw_clusters = []\n",
        "    for cluster_id, data in region_data['SCiw'].items():\n",
        "        sciw_binned.append(data['binned'][trial_idx])\n",
        "        sciw_clusters.append(cluster_id)\n",
        "\n",
        "    # Check if we have data for both regions\n",
        "    if not scdg_binned or not sciw_binned:\n",
        "        print(\"Missing data for one or both regions\")\n",
        "        return None, None, None, None, None\n",
        "\n",
        "    # Get dimensions\n",
        "    n_trials = scdg_binned[0].shape[0]\n",
        "    n_timebins = scdg_binned[0].shape[1]\n",
        "    n_scdg = len(scdg_binned)\n",
        "    n_sciw = len(sciw_binned)\n",
        "\n",
        "    # Create arrays [trials × time × neurons] for each region\n",
        "    X_scdg = np.zeros((n_trials, n_timebins, n_scdg))\n",
        "    for i, binned in enumerate(scdg_binned):\n",
        "        X_scdg[:, :, i] = binned\n",
        "\n",
        "    X_sciw = np.zeros((n_trials, n_timebins, n_sciw))\n",
        "    for i, binned in enumerate(sciw_binned):\n",
        "        X_sciw[:, :, i] = binned\n",
        "\n",
        "    return X_scdg, X_sciw, trial_idx, scdg_clusters, sciw_clusters"
      ],
      "metadata": {
        "id": "nx1YLlKaM5s3"
      },
      "execution_count": null,
      "outputs": []
    },
    {
      "cell_type": "code",
      "source": [
        "def load_cluster_data(pid, cluster_id, one, ba):\n",
        "    \"\"\"\n",
        "    Loads spikes and trials for the given probe insertion ID (pid),\n",
        "    filters to 'good' clusters, and returns:\n",
        "      - spikes_g (dict of spike times/clusters for good clusters)\n",
        "      - sl (SessionLoader with sl.trials)\n",
        "      - cluster_id (the same, but we confirm it's 'good')\n",
        "    Raises ValueError if cluster_id not found among good clusters.\n",
        "    \"\"\"\n",
        "\n",
        "    # --- load the spike data ---\n",
        "    ssl = SpikeSortingLoader(pid=pid, one=one, atlas=ba)\n",
        "    spikes, clusters, channels = ssl.load_spike_sorting()\n",
        "    clusters = ssl.merge_clusters(spikes, clusters, channels)\n",
        "\n",
        "    # --- filter to good clusters ---\n",
        "    good_mask = (clusters['label'] >= 0.5) #kinda good clusters\n",
        "    good_cluster_ids = clusters['cluster_id'][good_mask]\n",
        "    if cluster_id not in good_cluster_ids:\n",
        "        raise ValueError(f\"Cluster {cluster_id} is not labeled 'good' or not found in this PID.\")\n",
        "\n",
        "    # filter spikes\n",
        "    good_spk_idx = np.where(np.isin(spikes['clusters'], good_cluster_ids))[0]\n",
        "    spikes_g = {k: v[good_spk_idx] for k, v in spikes.items()}\n",
        "\n",
        "    # print how many SCdg clusters we have\n",
        "    scdg_mask = (clusters['acronym'][good_mask] == 'SCdg')\n",
        "    scdg_ids = clusters['cluster_id'][good_mask][scdg_mask]\n",
        "    print(f\"SCdg clusters found: {scdg_ids}\")\n",
        "\n",
        "    # --- Load trials ---\n",
        "    eid, pname = one.pid2eid(pid)\n",
        "    sl = SessionLoader(eid=eid, one=one)\n",
        "    sl.load_trials()\n",
        "\n",
        "    return spikes_g, clusters, sl"
      ],
      "metadata": {
        "id": "BXyoYY9uGZNl"
      },
      "execution_count": null,
      "outputs": []
    },
    {
      "cell_type": "code",
      "source": [
        "data = extract_spikes_for_pcca_by_region(sig_scdg['pid'], sig_scdg, sig_sciw,'stimOn', one, ba)"
      ],
      "metadata": {
        "colab": {
          "base_uri": "https://localhost:8080/"
        },
        "id": "n9ryuqG60wqX",
        "outputId": "f4938fa0-fc9f-4916-d6ed-fb986d8eb902"
      },
      "execution_count": null,
      "outputs": [
        {
          "output_type": "stream",
          "name": "stderr",
          "text": [
            "/usr/local/lib/python3.11/dist-packages/one/util.py:406: ALFWarning: No default revision for dataset alf/probe00/pykilosort/spikes.amps.npy; using most recent\n",
            "  warnings.warn(\n",
            "/usr/local/lib/python3.11/dist-packages/one/util.py:406: ALFWarning: No default revision for dataset alf/probe00/pykilosort/#2024-05-06#/spikes.clusters.npy; using most recent\n",
            "  warnings.warn(\n",
            "/usr/local/lib/python3.11/dist-packages/one/util.py:406: ALFWarning: No default revision for dataset alf/probe00/pykilosort/#2024-05-06#/spikes.depths.npy; using most recent\n",
            "  warnings.warn(\n",
            "/usr/local/lib/python3.11/dist-packages/one/util.py:406: ALFWarning: No default revision for dataset alf/probe00/pykilosort/spikes.times.npy; using most recent\n",
            "  warnings.warn(\n",
            "/usr/local/lib/python3.11/dist-packages/one/util.py:406: ALFWarning: No default revision for dataset alf/probe00/pykilosort/#2024-05-06#/clusters.channels.npy; using most recent\n",
            "  warnings.warn(\n",
            "/usr/local/lib/python3.11/dist-packages/one/util.py:406: ALFWarning: No default revision for dataset alf/probe00/pykilosort/clusters.depths.npy; using most recent\n",
            "  warnings.warn(\n",
            "/usr/local/lib/python3.11/dist-packages/one/util.py:406: ALFWarning: No default revision for dataset alf/probe00/pykilosort/#2024-05-06#/clusters.metrics.pqt; using most recent\n",
            "  warnings.warn(\n",
            "/usr/local/lib/python3.11/dist-packages/one/util.py:406: ALFWarning: No default revision for dataset alf/probe00/pykilosort/#2024-05-06#/clusters.uuids.csv; using most recent\n",
            "  warnings.warn(\n",
            "/usr/local/lib/python3.11/dist-packages/one/util.py:406: ALFWarning: No default revision for dataset alf/probe00/pykilosort/#2024-05-06#/channels.brainLocationIds_ccf_2017.npy; using most recent\n",
            "  warnings.warn(\n",
            "/usr/local/lib/python3.11/dist-packages/one/util.py:406: ALFWarning: No default revision for dataset alf/probe00/pykilosort/#2024-05-06#/channels.localCoordinates.npy; using most recent\n",
            "  warnings.warn(\n",
            "/usr/local/lib/python3.11/dist-packages/one/util.py:406: ALFWarning: No default revision for dataset alf/probe00/pykilosort/#2024-05-06#/channels.mlapdv.npy; using most recent\n",
            "  warnings.warn(\n",
            "/usr/local/lib/python3.11/dist-packages/one/util.py:406: ALFWarning: No default revision for dataset alf/probe00/pykilosort/channels.rawInd.npy; using most recent\n",
            "  warnings.warn(\n",
            "/usr/local/lib/python3.11/dist-packages/one/util.py:406: ALFWarning: No default revision for dataset alf/probe00/pykilosort/#2024-05-06#/channels.brainLocationIds_ccf_2017.npy; using most recent\n",
            "  warnings.warn(\n",
            "/usr/local/lib/python3.11/dist-packages/one/util.py:406: ALFWarning: No default revision for dataset alf/probe00/pykilosort/#2024-05-06#/channels.localCoordinates.npy; using most recent\n",
            "  warnings.warn(\n",
            "/usr/local/lib/python3.11/dist-packages/one/util.py:406: ALFWarning: No default revision for dataset alf/probe00/pykilosort/#2024-05-06#/channels.mlapdv.npy; using most recent\n",
            "  warnings.warn(\n",
            "/usr/local/lib/python3.11/dist-packages/one/util.py:406: ALFWarning: No default revision for dataset alf/probe00/pykilosort/channels.rawInd.npy; using most recent\n",
            "  warnings.warn(\n"
          ]
        },
        {
          "output_type": "stream",
          "name": "stdout",
          "text": [
            "SCdg clusters found: [1053 1054 1055 1056 1057 1058 1061 1064 1065 1067 1068 1069 1071 1072\n",
            " 1074 1075 1077 1078 1079 1081 1084 1085 1086 1089 1090 1091 1092 1093\n",
            " 1094 1095 1097 1098 1099 1100 1101 1108 1109 1112 1113 1114 1323]\n"
          ]
        }
      ]
    },
    {
      "cell_type": "code",
      "source": [
        "X_scdg, X_sciw, trial_idx, scdg_clusters, sciw_clusters = prepare_pcca_matrices(data, condition='left-right')"
      ],
      "metadata": {
        "id": "xtdlncL_6gGg"
      },
      "execution_count": null,
      "outputs": []
    },
    {
      "cell_type": "code",
      "source": [
        "\"\"\"============================================================================\n",
        "Probabilistic canonical correlation analysis. For references in comments:\n",
        "\n",
        "    A Probabilistic Interpretation of Canonical Correlation Analysis.\n",
        "    Bach, Jordan (2006).\n",
        "\n",
        "    The EM algorithm for mixtures of factor analyzers.\n",
        "    Ghahramani, Hinton (1996).\n",
        "============================================================================\"\"\"\n",
        "\n",
        "import numpy as np\n",
        "\n",
        "inv = np.linalg.inv\n",
        "\n",
        "\n",
        "# -----------------------------------------------------------------------------\n",
        "\n",
        "class PCCA:\n",
        "\n",
        "    def __init__(self, n_components, n_iters, regularization=1.0):\n",
        "        \"\"\"Initialize probabilistic CCA model.\n",
        "        \"\"\"\n",
        "        self.k = n_components\n",
        "        self.n_iters = n_iters\n",
        "        self.reg = regularization\n",
        "\n",
        "    def fit(self, X1, X2):\n",
        "        \"\"\"Fit model via EM.\n",
        "        \"\"\"\n",
        "        self._init_params(X1, X2)\n",
        "        #np.linalg.cholesky(self.Psi)\n",
        "        print('is psd')\n",
        "        for _ in range(self.n_iters):\n",
        "            self._em_step()\n",
        "            #np.linalg.cholesky(self.Psi)\n",
        "\n",
        "    def transform(self, X1, X2):\n",
        "        \"\"\"Embed data using fitted model.\n",
        "        \"\"\"\n",
        "        X = np.hstack([X1, X2]).T\n",
        "        Psi_inv = inv(self.Psi)\n",
        "        M = inv(np.eye(self.k) + self.W.T @ Psi_inv @ self.W)\n",
        "        Z = M @ self.W.T @ Psi_inv @ X\n",
        "        return Z.T\n",
        "\n",
        "    def fit_transform(self, X1, X2):\n",
        "        self.fit(X1, X2)\n",
        "        return self.transform(X1, X2)\n",
        "\n",
        "    def sample(self, n_samples=None):\n",
        "        \"\"\"Sample from the fitted model.\n",
        "        \"\"\"\n",
        "\n",
        "        if n_samples is None:\n",
        "          n_samples = self.n\n",
        "\n",
        "        Psi_inv = inv(self.Psi)\n",
        "        M = inv(np.eye(self.k) + self.W.T @ Psi_inv @ self.W)\n",
        "        Z_post_mean = M @ self.W.T @ Psi_inv @ self.X\n",
        "\n",
        "        X_mean = self.W @ Z_post_mean\n",
        "        X_samples = np.zeros((self.n, self.p))\n",
        "        for i in range(self.n):\n",
        "            X_samples[i] = np.random.multivariate_normal(X_mean[:, i], self.Psi)\n",
        "\n",
        "        # Partition the columns => (X1, X2)\n",
        "        X1_samples = X_samples[:, :self.p1]  # shape => (n, p1)\n",
        "        X2_samples = X_samples[:, self.p1:]  # shape => (n, p2)\n",
        "\n",
        "        return X1_samples, X2_samples\n",
        "\n",
        "# -----------------------------------------------------------------------------\n",
        "\n",
        "    def _em_step(self):\n",
        "        Psi_inv = inv(self.Psi)\n",
        "        M = inv(np.eye(self.k) + self.W.T @ Psi_inv @ self.W)\n",
        "        Z = M @ self.W.T @ Psi_inv @ self.X\n",
        "        Ezz = Z @ Z.T + self.n * M\n",
        "\n",
        "        # Update W explicitly\n",
        "        W_new = (self.X @ Z.T) @ inv(Ezz)\n",
        "\n",
        "        # Compute residuals explicitly\n",
        "        X_recon = W_new @ Z\n",
        "        residual = self.X - X_recon\n",
        "\n",
        "        # Clearly separate Psi1 and Psi2\n",
        "        residual1 = residual[:self.p1, :]\n",
        "        residual2 = residual[self.p1:, :]\n",
        "\n",
        "        Psi1_new = (residual1 @ residual1.T) / self.n + self.reg * np.eye(self.p1)\n",
        "        Psi2_new = (residual2 @ residual2.T) / self.n + self.reg * np.eye(self.p2)\n",
        "\n",
        "        # Combine Psi clearly\n",
        "        self.Psi = np.block([\n",
        "            [Psi1_new, np.zeros((self.p1, self.p2))],\n",
        "            [np.zeros((self.p2, self.p1)), Psi2_new]\n",
        "        ])\n",
        "\n",
        "        # Update W\n",
        "        self.W = (self.X @ Z.T) @ inv(Ezz)\n",
        "\n",
        "\n",
        "\n",
        "    def _init_params(self, X1, X2):\n",
        "        \"\"\"Initialize parameters.\n",
        "        \"\"\"\n",
        "        self.X1, self.X2 = X1, X2\n",
        "        self.n, self.p1 = self.X1.shape\n",
        "        _, self.p2 = self.X2.shape\n",
        "        self.p = self.p1 + self.p2\n",
        "\n",
        "        # Initialize sample covariances matrices.\n",
        "        self.X = np.hstack([X1, X2]).T\n",
        "        assert(self.X.shape == (self.p, self.n))\n",
        "        self.Sigma1 = np.cov(self.X1.T)\n",
        "        assert(self.Sigma1.shape == (self.p1, self.p1))\n",
        "        self.Sigma2 = np.cov(self.X2.T)\n",
        "        assert(self.Sigma2.shape == (self.p2, self.p2))\n",
        "\n",
        "        # Initialize W.\n",
        "        W1 = np.random.random((self.p1, self.k))\n",
        "        W2 = np.random.random((self.p2, self.k))\n",
        "        self.W = np.vstack([W1, W2])\n",
        "        assert(self.W.shape == (self.p, self.k))\n",
        "\n",
        "        # Initialize Psi.\n",
        "        prior_var1 = 1\n",
        "        prior_var2 = 1\n",
        "        Psi1 = prior_var1 * np.eye(self.p1)\n",
        "        Psi2 = prior_var2 * np.eye(self.p2)\n",
        "        Psi = np.block([[Psi1, np.zeros((self.p1, self.p2))],\n",
        "                        [np.zeros((self.p2, self.p1)), Psi2]])\n",
        "        self.Psi = Psi"
      ],
      "metadata": {
        "id": "vRi7mOMP8hOj"
      },
      "execution_count": null,
      "outputs": []
    },
    {
      "cell_type": "code",
      "source": [
        "from sklearn.decomposition import PCA\n",
        "\n",
        "# Original 3D shapes\n",
        "print(X_scdg.shape)  # (n_trials, n_clusters, n_time_bins)\n",
        "print(X_sciw.shape)\n",
        "\n",
        "# Reshape into 2D (flatten cluster and time dimensions)\n",
        "X_scdg_flat = X_scdg.reshape(X_scdg.shape[0], -1)\n",
        "X_sciw_flat = X_sciw.reshape(X_sciw.shape[0], -1)\n",
        "\n",
        "print(X_scdg_flat.shape)  # (n_trials, n_clusters * n_time_bins)\n",
        "print(X_sciw_flat.shape)\n",
        "\n",
        "# Apply PCA to reduce dimensionality\n",
        "pca_components = 200  # You can adjust this based on variance explained\n",
        "pca1 = PCA(n_components=pca_components)\n",
        "pca2 = PCA(n_components=pca_components)\n",
        "\n",
        "X1_pcca = pca1.fit_transform(X_scdg_flat)\n",
        "X2_pcca = pca2.fit_transform(X_sciw_flat)\n",
        "\n",
        "print(X1_pcca.shape)  # Now (n_trials, pca_components)\n",
        "print(X2_pcca.shape)"
      ],
      "metadata": {
        "colab": {
          "base_uri": "https://localhost:8080/"
        },
        "id": "AGS8LXcm-2iN",
        "outputId": "75517bc7-ed0e-4250-fef4-73330ad7b495"
      },
      "execution_count": null,
      "outputs": [
        {
          "output_type": "stream",
          "name": "stdout",
          "text": [
            "(762, 30, 30)\n",
            "(762, 30, 30)\n",
            "(762, 900)\n",
            "(762, 900)\n",
            "(762, 200)\n",
            "(762, 200)\n"
          ]
        }
      ]
    },
    {
      "cell_type": "markdown",
      "source": [
        "takes about 2.5 mins per latent dim"
      ],
      "metadata": {
        "id": "Kd6angTplpB_"
      }
    },
    {
      "cell_type": "code",
      "source": [
        "def pcca_rmse(X1, X2, components=2):\n",
        "    # 1) Fit\n",
        "    pcca = PCCA(components, 100)\n",
        "    pcca.fit(X1_pcca, X2_pcca)\n",
        "\n",
        "    # 2) Generate same # of samples as original\n",
        "    n_samples = X1.shape[0]\n",
        "    X1_gen, X2_gen = pcca.sample()\n",
        "\n",
        "    # 3) RMSE\n",
        "    num_samples = min(X1.shape[0], X2.shape[0])\n",
        "\n",
        "    if X1.shape[0] != X2.shape[0]:\n",
        "        X1, X2 = X1[:num_samples], X2[:num_samples]\n",
        "\n",
        "    rmse1 = np.sqrt(np.mean((X1_gen - X1_pcca)**2))\n",
        "    rmse2 = np.sqrt(np.mean((X2_gen - X2_pcca)**2))\n",
        "    return rmse1, rmse2\n",
        "\n",
        "# Suppose X1, X2 are (nSamples, nFeaturesA/B)\n",
        "latent_dims = range(1,15)\n",
        "rmseA, rmseB = [], []\n",
        "\n",
        "for d in latent_dims:\n",
        "    rA, rB = pcca_rmse(X1_pcca, X2_pcca, d)\n",
        "    rmseA.append(rA)\n",
        "    rmseB.append(rB)\n",
        "    print(f\"latent_dims {d} done\")\n",
        "\n",
        "plt.plot(latent_dims, rmseA, marker='o', label='SCdg RMSE')\n",
        "plt.plot(latent_dims, rmseB, marker='s', label='SCiw RMSE')\n",
        "plt.xlabel(\"Number of Latent Components\")\n",
        "plt.ylabel(\"RMSE\")\n",
        "plt.title(\"PCCA Reconstruction Error\")\n",
        "plt.legend()\n",
        "plt.show()"
      ],
      "metadata": {
        "colab": {
          "base_uri": "https://localhost:8080/",
          "height": 958
        },
        "id": "DqGxh-Eb9k3n",
        "outputId": "f58b072e-aa56-4757-d9a1-9093f28addfa"
      },
      "execution_count": null,
      "outputs": [
        {
          "output_type": "stream",
          "name": "stdout",
          "text": [
            "is psd\n",
            "latent_dims 1 done\n",
            "is psd\n",
            "latent_dims 2 done\n",
            "is psd\n",
            "latent_dims 3 done\n",
            "is psd\n",
            "latent_dims 4 done\n",
            "is psd\n",
            "latent_dims 5 done\n",
            "is psd\n",
            "latent_dims 6 done\n",
            "is psd\n",
            "latent_dims 7 done\n",
            "is psd\n",
            "latent_dims 8 done\n",
            "is psd\n",
            "latent_dims 9 done\n",
            "is psd\n",
            "latent_dims 10 done\n",
            "is psd\n",
            "latent_dims 11 done\n",
            "is psd\n",
            "latent_dims 12 done\n",
            "is psd\n",
            "latent_dims 13 done\n",
            "is psd\n",
            "latent_dims 14 done\n"
          ]
        },
        {
          "output_type": "display_data",
          "data": {
            "text/plain": [
              "<Figure size 640x480 with 1 Axes>"
            ],
            "image/png": "[encoded data removed]"
          },
          "metadata": {}
        }
      ]
    },
    {
      "cell_type": "code",
      "source": [
        "print(\"Mean of original data:\", X_scdg_flat.mean(), X_sciw_flat.mean())\n",
        "print(\"Std deviation of original data:\", X_scdg_flat.std(), X_sciw_flat.std())"
      ],
      "metadata": {
        "colab": {
          "base_uri": "https://localhost:8080/"
        },
        "id": "uSLMaOq7-kdH",
        "outputId": "57c54ebe-5232-4ce4-c684-d9fcaf33ad18"
      },
      "execution_count": null,
      "outputs": [
        {
          "output_type": "stream",
          "name": "stdout",
          "text": [
            "Mean of original data: 0.5955030621172354 0.608257509477982\n",
            "Std deviation of original data: 1.1702326027242673 1.1787108820356744\n"
          ]
        }
      ]
    },
    {
      "cell_type": "code",
      "source": [
        "from sklearn.decomposition import PCA\n",
        "import matplotlib.pyplot as plt\n",
        "\n",
        "pca = PCA().fit(X_scdg_flat)\n",
        "cumulative_variance = np.cumsum(pca.explained_variance_ratio_)\n",
        "\n",
        "plt.plot(cumulative_variance)\n",
        "plt.axhline(y=0.9, color='r', linestyle='--', label='90% variance explained')\n",
        "plt.xlabel('Number of PCA components')\n",
        "plt.ylabel('Cumulative explained variance')\n",
        "plt.title('PCA Variance Explained')\n",
        "plt.legend()\n",
        "plt.grid()\n",
        "plt.show()\n"
      ],
      "metadata": {
        "colab": {
          "base_uri": "https://localhost:8080/",
          "height": 472
        },
        "id": "mHyR8n2UFHRJ",
        "outputId": "10c57509-1b20-48d1-e1b5-60c9bb08f25c"
      },
      "execution_count": null,
      "outputs": [
        {
          "output_type": "display_data",
          "data": {
            "text/plain": [
              "<Figure size 640x480 with 1 Axes>"
            ],
            "image/png": "[encoded data removed]"
          },
          "metadata": {}
        }
      ]
    },
    {
      "cell_type": "code",
      "source": [
        "from sklearn.decomposition import PCA\n",
        "from sklearn.metrics import mean_squared_error\n",
        "\n",
        "pca = PCA(n_components=50)\n",
        "X_scdg_pca = pca.fit_transform(X_scdg_flat)\n",
        "X_scdg_reconstructed = pca.inverse_transform(X_scdg_pca)\n",
        "\n",
        "pca_rmse = np.sqrt(mean_squared_error(X_scdg_flat, X_scdg_reconstructed))\n",
        "print(\"PCA-only RMSE:\", pca_rmse)\n"
      ],
      "metadata": {
        "colab": {
          "base_uri": "https://localhost:8080/"
        },
        "id": "g0EWT_dxHgbc",
        "outputId": "33dbca44-67a4-4a72-80f0-35d2b1cc5b56"
      },
      "execution_count": null,
      "outputs": [
        {
          "output_type": "stream",
          "name": "stdout",
          "text": [
            "PCA-only RMSE: 0.6243171512617182\n"
          ]
        }
      ]
    },
    {
      "cell_type": "code",
      "source": [
        "from sklearn.cross_decomposition import CCA\n",
        "from sklearn.metrics import mean_squared_error\n",
        "\n",
        "cca = CCA(n_components=9)  # match your latent dimensions\n",
        "X1_c, X2_c = cca.fit_transform(X1_pcca, X2_pcca)\n",
        "\n",
        "# Reconstruct data\n",
        "X1_rec = cca.inverse_transform(X1_c)\n",
        "X2_rec = cca.inverse_transform(X2_c)\n",
        "\n",
        "rmse1 = np.sqrt(mean_squared_error(X1_pcca, X1_rec))\n",
        "rmse2 = np.sqrt(mean_squared_error(X2_pcca, X2_rec))\n",
        "\n",
        "print(\"CCA RMSE (X1):\", rmse1)\n",
        "print(\"CCA RMSE (X2):\", rmse2)\n"
      ],
      "metadata": {
        "colab": {
          "base_uri": "https://localhost:8080/"
        },
        "id": "WELiAfc_NoLZ",
        "outputId": "08ec86b6-170b-4a4f-e9da-782d7a4c978e"
      },
      "execution_count": null,
      "outputs": [
        {
          "output_type": "stream",
          "name": "stderr",
          "text": [
            "/usr/local/lib/python3.11/dist-packages/sklearn/cross_decomposition/_pls.py:113: ConvergenceWarning: Maximum number of iterations reached\n",
            "  warnings.warn(\"Maximum number of iterations reached\", ConvergenceWarning)\n"
          ]
        },
        {
          "output_type": "stream",
          "name": "stdout",
          "text": [
            "CCA RMSE (X1): 1.8027479430698465\n",
            "CCA RMSE (X2): 1.8810855585125341\n"
          ]
        }
      ]
    },
    {
      "cell_type": "code",
      "source": [
        "from sklearn.cross_decomposition import CCA\n",
        "\n",
        "cca = CCA(n_components=5)\n",
        "X1_c, X2_c = cca.fit_transform(X1_pcca, X2_pcca)\n",
        "\n",
        "# Evaluate canonical correlations\n",
        "canonical_corrs = [np.corrcoef(X1_c[:, i], X2_c[:, i])[0, 1] for i in range(X1_c.shape[1])]\n",
        "print(\"Canonical correlations:\", canonical_corrs)\n"
      ],
      "metadata": {
        "colab": {
          "base_uri": "https://localhost:8080/"
        },
        "id": "93r19Rt8ObHW",
        "outputId": "50f553b0-dd0f-4c7a-b948-6dbd778faaef"
      },
      "execution_count": null,
      "outputs": [
        {
          "output_type": "stream",
          "name": "stderr",
          "text": [
            "/usr/local/lib/python3.11/dist-packages/sklearn/cross_decomposition/_pls.py:113: ConvergenceWarning: Maximum number of iterations reached\n",
            "  warnings.warn(\"Maximum number of iterations reached\", ConvergenceWarning)\n"
          ]
        },
        {
          "output_type": "stream",
          "name": "stdout",
          "text": [
            "Canonical correlations: [0.9999903384602858, 0.9992698366656785, 0.9991730141739421, 0.9987479035356808, 0.9990026187097474]\n"
          ]
        }
      ]
    },
    {
      "cell_type": "code",
      "source": [
        "from sklearn.cross_decomposition import CCA\n",
        "import numpy as np\n",
        "import matplotlib.pyplot as plt\n",
        "\n",
        "# Fit CCA clearly\n",
        "n_components = 10  # adjust as needed\n",
        "cca = CCA(n_components=n_components)\n",
        "cca.fit(X1_pcca, X2_pcca)\n",
        "\n",
        "# Transform datasets\n",
        "X1_c, X2_c = cca.transform(X1_pcca, X2_pcca)\n",
        "\n",
        "# Compute correlations\n",
        "corrs = [np.corrcoef(X1_pcca[:, i], X2_pcca[:, i])[0, 1] for i in range(n_components)]\n",
        "print(\"Canonical correlations:\", np.round(corrs, 3))\n",
        "\n",
        "# Plot canonical correlations clearly\n",
        "plt.figure(figsize=(8, 4))\n",
        "plt.bar(range(1, n_components + 1), corrs, color='navy')\n",
        "plt.xlabel('Canonical Component')\n",
        "plt.ylabel('Correlation between Conditions')\n",
        "plt.title('Canonical Correlations (CCA)')\n",
        "plt.ylim(0, 1)\n",
        "plt.grid(axis='y')\n",
        "plt.show()\n"
      ],
      "metadata": {
        "colab": {
          "base_uri": "https://localhost:8080/",
          "height": 462
        },
        "id": "OP_jDzdAQXrj",
        "outputId": "ce21b542-9d20-4643-c5fb-b0de1cdf988d"
      },
      "execution_count": null,
      "outputs": [
        {
          "output_type": "stream",
          "name": "stderr",
          "text": [
            "/usr/local/lib/python3.11/dist-packages/sklearn/cross_decomposition/_pls.py:113: ConvergenceWarning: Maximum number of iterations reached\n",
            "  warnings.warn(\"Maximum number of iterations reached\", ConvergenceWarning)\n"
          ]
        },
        {
          "output_type": "stream",
          "name": "stdout",
          "text": [
            "Canonical correlations: [0.996 0.994 0.999 0.998 0.995 0.986 0.986 0.99  0.979 0.929]\n"
          ]
        },
        {
          "output_type": "display_data",
          "data": {
            "text/plain": [
              "<Figure size 800x400 with 1 Axes>"
            ],
            "image/png": "[encoded data removed]"
          },
          "metadata": {}
        }
      ]
    },
    {
      "cell_type": "code",
      "source": [
        "from sklearn.cross_decomposition import CCA\n",
        "import numpy as np\n",
        "import matplotlib.pyplot as plt\n",
        "import seaborn as sns\n",
        "\n",
        "# Fit CCA\n",
        "n_components = 5  # Adjust as needed\n",
        "cca = CCA(n_components=n_components)\n",
        "X1_c, X2_c = cca.fit_transform(X1_pcca, X2_pcca)\n",
        "\n",
        "# Compute correlations\n",
        "corrs = [np.corrcoef(X1_c[:, i], X2_c[:, i])[0, 1] for i in range(n_components)]\n",
        "print(\"Canonical correlations:\", np.round(corrs, 3))\n",
        "\n",
        "# --- Scatter plot of CCA components ---\n",
        "fig, axes = plt.subplots(1, n_components, figsize=(15, 4))\n",
        "for i in range(n_components):\n",
        "    axes[i].scatter(X1_c[:, i], X2_c[:, i], alpha=0.5, color='teal')\n",
        "    axes[i].set_xlabel(f'X1 CCA {i+1}')\n",
        "    axes[i].set_ylabel(f'X2 CCA {i+1}')\n",
        "    axes[i].set_title(f'Comp {i+1} (r={corrs[i]:.2f})')\n",
        "\n",
        "plt.tight_layout()\n",
        "plt.show()\n",
        "\n",
        "# --- Correlation matrix heatmap ---\n",
        "corr_matrix = np.corrcoef(X1_c.T, X2_c.T)[:n_components, n_components:]\n",
        "plt.figure(figsize=(6, 5))\n",
        "sns.heatmap(corr_matrix, annot=True, cmap='coolwarm', vmin=-1, vmax=1, xticklabels=[f'X2 CCA {i+1}' for i in range(n_components)], yticklabels=[f'X1 CCA {i+1}' for i in range(n_components)])\n",
        "plt.title(\"CCA Component Correlation Matrix\")\n",
        "plt.show()\n"
      ],
      "metadata": {
        "colab": {
          "base_uri": "https://localhost:8080/",
          "height": 910
        },
        "id": "0368Rp9ANHRg",
        "outputId": "0fa2b3a1-569a-4b8c-a7d8-48b811dcf87f"
      },
      "execution_count": null,
      "outputs": [
        {
          "output_type": "stream",
          "name": "stderr",
          "text": [
            "/usr/local/lib/python3.11/dist-packages/sklearn/cross_decomposition/_pls.py:113: ConvergenceWarning: Maximum number of iterations reached\n",
            "  warnings.warn(\"Maximum number of iterations reached\", ConvergenceWarning)\n"
          ]
        },
        {
          "output_type": "stream",
          "name": "stdout",
          "text": [
            "Canonical correlations: [1.    0.999 0.999 0.999 0.999]\n"
          ]
        },
        {
          "output_type": "display_data",
          "data": {
            "text/plain": [
              "<Figure size 1500x400 with 5 Axes>"
            ],
            "image/png": "[encoded data removed]"
          },
          "metadata": {}
        },
        {
          "output_type": "display_data",
          "data": {
            "text/plain": [
              "<Figure size 600x500 with 2 Axes>"
            ],
            "image/png": "[encoded data removed]"
          },
          "metadata": {}
        }
      ]
    },
    {
      "cell_type": "code",
      "source": [],
      "metadata": {
        "id": "SmuWsynVNH4Y"
      },
      "execution_count": null,
      "outputs": []
    }
  ]
}
